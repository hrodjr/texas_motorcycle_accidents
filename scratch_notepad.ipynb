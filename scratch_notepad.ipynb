{
 "cells": [
  {
   "cell_type": "code",
   "execution_count": 1,
   "id": "e4b13bcd-aedb-4004-a66d-9350c2abae61",
   "metadata": {},
   "outputs": [],
   "source": [
    "import pandas as pd\n",
    "import prepare\n",
    "from datetime import datetime\n",
    "import matplotlib.pyplot as plt\n",
    "from sklearn.model_selection import train_test_split"
   ]
  },
  {
   "cell_type": "code",
   "execution_count": 2,
   "id": "61ec376b-1a5f-46ca-9879-1501e5e3df8d",
   "metadata": {},
   "outputs": [
    {
     "data": {
      "text/html": [
       "<div>\n",
       "<style scoped>\n",
       "    .dataframe tbody tr th:only-of-type {\n",
       "        vertical-align: middle;\n",
       "    }\n",
       "\n",
       "    .dataframe tbody tr th {\n",
       "        vertical-align: top;\n",
       "    }\n",
       "\n",
       "    .dataframe thead th {\n",
       "        text-align: right;\n",
       "    }\n",
       "</style>\n",
       "<table border=\"1\" class=\"dataframe\">\n",
       "  <thead>\n",
       "    <tr style=\"text-align: right;\">\n",
       "      <th></th>\n",
       "      <th>Crash ID</th>\n",
       "      <th>Average Daily Traffic Amount</th>\n",
       "      <th>Average Daily Traffic Year</th>\n",
       "      <th>City</th>\n",
       "      <th>County</th>\n",
       "      <th>Crash Date</th>\n",
       "      <th>Crash Death Count</th>\n",
       "      <th>Crash Month</th>\n",
       "      <th>Crash Severity</th>\n",
       "      <th>Crash Time</th>\n",
       "      <th>...</th>\n",
       "      <th>Person Blood Alcohol Content Test Result</th>\n",
       "      <th>Person Death Count</th>\n",
       "      <th>Person Drug Test Result</th>\n",
       "      <th>Person Ethnicity</th>\n",
       "      <th>Person Gender</th>\n",
       "      <th>Person Helmet</th>\n",
       "      <th>Person Injury Severity</th>\n",
       "      <th>Person Not Injured Count</th>\n",
       "      <th>Person Total Injury Count</th>\n",
       "      <th>Person Type</th>\n",
       "    </tr>\n",
       "  </thead>\n",
       "  <tbody>\n",
       "    <tr>\n",
       "      <th>0</th>\n",
       "      <td>11825679</td>\n",
       "      <td>21549</td>\n",
       "      <td>2018</td>\n",
       "      <td>SAN ANTONIO</td>\n",
       "      <td>BEXAR</td>\n",
       "      <td>1/1/11</td>\n",
       "      <td>0</td>\n",
       "      <td>1</td>\n",
       "      <td>B - SUSPECTED MINOR INJURY</td>\n",
       "      <td>2230</td>\n",
       "      <td>...</td>\n",
       "      <td>No Data</td>\n",
       "      <td>0</td>\n",
       "      <td>97 - NOT APPLICABLE</td>\n",
       "      <td>H - HISPANIC</td>\n",
       "      <td>1 - MALE</td>\n",
       "      <td>1 - NOT WORN</td>\n",
       "      <td>B - SUSPECTED MINOR INJURY</td>\n",
       "      <td>0</td>\n",
       "      <td>1</td>\n",
       "      <td>5 - DRIVER OF MOTORCYCLE TYPE VEHICLE</td>\n",
       "    </tr>\n",
       "    <tr>\n",
       "      <th>1</th>\n",
       "      <td>11825679</td>\n",
       "      <td>21549</td>\n",
       "      <td>2018</td>\n",
       "      <td>SAN ANTONIO</td>\n",
       "      <td>BEXAR</td>\n",
       "      <td>1/1/11</td>\n",
       "      <td>0</td>\n",
       "      <td>1</td>\n",
       "      <td>B - SUSPECTED MINOR INJURY</td>\n",
       "      <td>2230</td>\n",
       "      <td>...</td>\n",
       "      <td>No Data</td>\n",
       "      <td>0</td>\n",
       "      <td>No Data</td>\n",
       "      <td>H - HISPANIC</td>\n",
       "      <td>2 - FEMALE</td>\n",
       "      <td>1 - NOT WORN</td>\n",
       "      <td>C - POSSIBLE INJURY</td>\n",
       "      <td>0</td>\n",
       "      <td>1</td>\n",
       "      <td>6 - PASSENGER/OCCUPANT ON MOTORCYCLE TYPE VEHICLE</td>\n",
       "    </tr>\n",
       "  </tbody>\n",
       "</table>\n",
       "<p>2 rows × 39 columns</p>\n",
       "</div>"
      ],
      "text/plain": [
       "   Crash ID Average Daily Traffic Amount Average Daily Traffic Year  \\\n",
       "0  11825679                        21549                       2018   \n",
       "1  11825679                        21549                       2018   \n",
       "\n",
       "          City County Crash Date  Crash Death Count  Crash Month  \\\n",
       "0  SAN ANTONIO  BEXAR     1/1/11                  0            1   \n",
       "1  SAN ANTONIO  BEXAR     1/1/11                  0            1   \n",
       "\n",
       "               Crash Severity  Crash Time  ...  \\\n",
       "0  B - SUSPECTED MINOR INJURY        2230  ...   \n",
       "1  B - SUSPECTED MINOR INJURY        2230  ...   \n",
       "\n",
       "   Person Blood Alcohol Content Test Result  Person Death Count  \\\n",
       "0                                   No Data                   0   \n",
       "1                                   No Data                   0   \n",
       "\n",
       "  Person Drug Test Result Person Ethnicity Person Gender Person Helmet  \\\n",
       "0     97 - NOT APPLICABLE     H - HISPANIC      1 - MALE  1 - NOT WORN   \n",
       "1                 No Data     H - HISPANIC    2 - FEMALE  1 - NOT WORN   \n",
       "\n",
       "       Person Injury Severity Person Not Injured Count  \\\n",
       "0  B - SUSPECTED MINOR INJURY                        0   \n",
       "1         C - POSSIBLE INJURY                        0   \n",
       "\n",
       "  Person Total Injury Count                                        Person Type  \n",
       "0                         1              5 - DRIVER OF MOTORCYCLE TYPE VEHICLE  \n",
       "1                         1  6 - PASSENGER/OCCUPANT ON MOTORCYCLE TYPE VEHICLE  \n",
       "\n",
       "[2 rows x 39 columns]"
      ]
     },
     "execution_count": 2,
     "metadata": {},
     "output_type": "execute_result"
    }
   ],
   "source": [
    "df = pd.read_csv('texasma.csv')\n",
    "df.head(2)"
   ]
  },
  {
   "cell_type": "code",
   "execution_count": 3,
   "id": "616f3fb7-2613-4864-9f95-61c9de8a6721",
   "metadata": {},
   "outputs": [
    {
     "data": {
      "text/html": [
       "<div>\n",
       "<style scoped>\n",
       "    .dataframe tbody tr th:only-of-type {\n",
       "        vertical-align: middle;\n",
       "    }\n",
       "\n",
       "    .dataframe tbody tr th {\n",
       "        vertical-align: top;\n",
       "    }\n",
       "\n",
       "    .dataframe thead th {\n",
       "        text-align: right;\n",
       "    }\n",
       "</style>\n",
       "<table border=\"1\" class=\"dataframe\">\n",
       "  <thead>\n",
       "    <tr style=\"text-align: right;\">\n",
       "      <th></th>\n",
       "      <th>city</th>\n",
       "      <th>county</th>\n",
       "      <th>deceased</th>\n",
       "      <th>injured</th>\n",
       "      <th>day</th>\n",
       "      <th>latitude</th>\n",
       "      <th>longitude</th>\n",
       "      <th>weather</th>\n",
       "      <th>dl_state</th>\n",
       "      <th>color</th>\n",
       "      <th>make</th>\n",
       "      <th>age</th>\n",
       "      <th>ethnicity</th>\n",
       "      <th>driver</th>\n",
       "      <th>helmet</th>\n",
       "      <th>male</th>\n",
       "    </tr>\n",
       "    <tr>\n",
       "      <th>crash_date</th>\n",
       "      <th></th>\n",
       "      <th></th>\n",
       "      <th></th>\n",
       "      <th></th>\n",
       "      <th></th>\n",
       "      <th></th>\n",
       "      <th></th>\n",
       "      <th></th>\n",
       "      <th></th>\n",
       "      <th></th>\n",
       "      <th></th>\n",
       "      <th></th>\n",
       "      <th></th>\n",
       "      <th></th>\n",
       "      <th></th>\n",
       "      <th></th>\n",
       "    </tr>\n",
       "  </thead>\n",
       "  <tbody>\n",
       "    <tr>\n",
       "      <th>2011-01-01 22:30:00</th>\n",
       "      <td>SAN ANTONIO</td>\n",
       "      <td>BEXAR</td>\n",
       "      <td>0</td>\n",
       "      <td>1</td>\n",
       "      <td>SATURDAY</td>\n",
       "      <td>29.358915</td>\n",
       "      <td>-98.566314</td>\n",
       "      <td>CLEAR</td>\n",
       "      <td>TEXAS</td>\n",
       "      <td>BLACK</td>\n",
       "      <td>HONDA</td>\n",
       "      <td>27</td>\n",
       "      <td>HISPANIC</td>\n",
       "      <td>1</td>\n",
       "      <td>0</td>\n",
       "      <td>1</td>\n",
       "    </tr>\n",
       "    <tr>\n",
       "      <th>2011-01-01 22:30:00</th>\n",
       "      <td>SAN ANTONIO</td>\n",
       "      <td>BEXAR</td>\n",
       "      <td>0</td>\n",
       "      <td>1</td>\n",
       "      <td>SATURDAY</td>\n",
       "      <td>29.358915</td>\n",
       "      <td>-98.566314</td>\n",
       "      <td>CLEAR</td>\n",
       "      <td>TEXAS</td>\n",
       "      <td>BLACK</td>\n",
       "      <td>HONDA</td>\n",
       "      <td>28</td>\n",
       "      <td>HISPANIC</td>\n",
       "      <td>0</td>\n",
       "      <td>0</td>\n",
       "      <td>0</td>\n",
       "    </tr>\n",
       "    <tr>\n",
       "      <th>2011-01-03 12:15:00</th>\n",
       "      <td>SAN ANTONIO</td>\n",
       "      <td>BEXAR</td>\n",
       "      <td>1</td>\n",
       "      <td>0</td>\n",
       "      <td>MONDAY</td>\n",
       "      <td>29.537465</td>\n",
       "      <td>-98.424572</td>\n",
       "      <td>CLOUDY</td>\n",
       "      <td>TEXAS</td>\n",
       "      <td>BLACK</td>\n",
       "      <td>HARLEY-DAVIDSON</td>\n",
       "      <td>53</td>\n",
       "      <td>WHITE</td>\n",
       "      <td>1</td>\n",
       "      <td>0</td>\n",
       "      <td>1</td>\n",
       "    </tr>\n",
       "    <tr>\n",
       "      <th>2011-01-05 21:15:00</th>\n",
       "      <td>SAN ANTONIO</td>\n",
       "      <td>BEXAR</td>\n",
       "      <td>0</td>\n",
       "      <td>1</td>\n",
       "      <td>WEDNESDAY</td>\n",
       "      <td>29.513015</td>\n",
       "      <td>-98.535152</td>\n",
       "      <td>CLEAR</td>\n",
       "      <td>TEXAS</td>\n",
       "      <td>BLACK</td>\n",
       "      <td>HARLEY-DAVIDSON</td>\n",
       "      <td>47</td>\n",
       "      <td>WHITE</td>\n",
       "      <td>1</td>\n",
       "      <td>0</td>\n",
       "      <td>1</td>\n",
       "    </tr>\n",
       "    <tr>\n",
       "      <th>2011-01-06 12:10:00</th>\n",
       "      <td>AUSTIN</td>\n",
       "      <td>WILLIAMSON</td>\n",
       "      <td>0</td>\n",
       "      <td>1</td>\n",
       "      <td>THURSDAY</td>\n",
       "      <td>30.476422</td>\n",
       "      <td>-97.764810</td>\n",
       "      <td>CLEAR</td>\n",
       "      <td>TEXAS</td>\n",
       "      <td>BLACK</td>\n",
       "      <td>SUZUKI</td>\n",
       "      <td>19</td>\n",
       "      <td>WHITE</td>\n",
       "      <td>1</td>\n",
       "      <td>1</td>\n",
       "      <td>1</td>\n",
       "    </tr>\n",
       "  </tbody>\n",
       "</table>\n",
       "</div>"
      ],
      "text/plain": [
       "                            city      county  deceased  injured        day  \\\n",
       "crash_date                                                                   \n",
       "2011-01-01 22:30:00  SAN ANTONIO       BEXAR         0        1   SATURDAY   \n",
       "2011-01-01 22:30:00  SAN ANTONIO       BEXAR         0        1   SATURDAY   \n",
       "2011-01-03 12:15:00  SAN ANTONIO       BEXAR         1        0     MONDAY   \n",
       "2011-01-05 21:15:00  SAN ANTONIO       BEXAR         0        1  WEDNESDAY   \n",
       "2011-01-06 12:10:00       AUSTIN  WILLIAMSON         0        1   THURSDAY   \n",
       "\n",
       "                      latitude  longitude weather dl_state  color  \\\n",
       "crash_date                                                          \n",
       "2011-01-01 22:30:00  29.358915 -98.566314   CLEAR    TEXAS  BLACK   \n",
       "2011-01-01 22:30:00  29.358915 -98.566314   CLEAR    TEXAS  BLACK   \n",
       "2011-01-03 12:15:00  29.537465 -98.424572  CLOUDY    TEXAS  BLACK   \n",
       "2011-01-05 21:15:00  29.513015 -98.535152   CLEAR    TEXAS  BLACK   \n",
       "2011-01-06 12:10:00  30.476422 -97.764810   CLEAR    TEXAS  BLACK   \n",
       "\n",
       "                                make  age ethnicity  driver  helmet  male  \n",
       "crash_date                                                                 \n",
       "2011-01-01 22:30:00            HONDA   27  HISPANIC       1       0     1  \n",
       "2011-01-01 22:30:00            HONDA   28  HISPANIC       0       0     0  \n",
       "2011-01-03 12:15:00  HARLEY-DAVIDSON   53     WHITE       1       0     1  \n",
       "2011-01-05 21:15:00  HARLEY-DAVIDSON   47     WHITE       1       0     1  \n",
       "2011-01-06 12:10:00           SUZUKI   19     WHITE       1       1     1  "
      ]
     },
     "execution_count": 3,
     "metadata": {},
     "output_type": "execute_result"
    }
   ],
   "source": [
    "df = prepare.cleaned(df)\n",
    "df.head()"
   ]
  },
  {
   "cell_type": "markdown",
   "id": "3b6a689a-f785-4e08-aef2-019340ff18a5",
   "metadata": {},
   "source": [
    "##### Data Visualization"
   ]
  },
  {
   "cell_type": "code",
   "execution_count": null,
   "id": "8f6f5701-df45-491c-9ad1-59393b79330c",
   "metadata": {
    "tags": []
   },
   "outputs": [],
   "source": [
    "num_cols = df.columns[[df[col].dtype == 'int64' for col in df.columns]]\n",
    "for col in num_cols:\n",
    "    plt.hist(df[col])\n",
    "    plt.title(col)\n",
    "    plt.show()"
   ]
  },
  {
   "cell_type": "code",
   "execution_count": 4,
   "id": "7bc47c98-5d2a-48cd-bc51-d38540941578",
   "metadata": {},
   "outputs": [],
   "source": [
    "#initial hypothesis test and model was done on this split.\n",
    "train, validate, test = prepare.train_validate_test_split(df, 'deceased', seed=123)"
   ]
  },
  {
   "cell_type": "code",
   "execution_count": 5,
   "id": "ea2c441d-7936-4cdf-b4b7-22b8b5e1abf5",
   "metadata": {},
   "outputs": [],
   "source": [
    "cat_vars = ['injured', 'driver', 'helmet', 'male']\n",
    "quant_vars = ['age', 'city', 'county', 'day', 'weather', 'dl_state', 'color', 'make', 'ethnicity']"
   ]
  },
  {
   "cell_type": "markdown",
   "id": "ec3a78a6-c903-4efa-8bc0-0fb446436a0c",
   "metadata": {},
   "source": [
    "### Univariate Stats"
   ]
  },
  {
   "cell_type": "code",
   "execution_count": 6,
   "id": "c18c7a07-7b57-4bd2-a720-1837e84d533e",
   "metadata": {},
   "outputs": [
    {
     "ename": "NameError",
     "evalue": "name 'explore' is not defined",
     "output_type": "error",
     "traceback": [
      "\u001b[0;31m---------------------------------------------------------------------------\u001b[0m",
      "\u001b[0;31mNameError\u001b[0m                                 Traceback (most recent call last)",
      "\u001b[0;32m<ipython-input-6-4f175545aa56>\u001b[0m in \u001b[0;36m<module>\u001b[0;34m\u001b[0m\n\u001b[0;32m----> 1\u001b[0;31m \u001b[0mexplore\u001b[0m\u001b[0;34m.\u001b[0m\u001b[0mexplore_univariate\u001b[0m\u001b[0;34m(\u001b[0m\u001b[0mtrain\u001b[0m\u001b[0;34m,\u001b[0m \u001b[0mcat_vars\u001b[0m\u001b[0;34m,\u001b[0m \u001b[0mquant_vars\u001b[0m\u001b[0;34m)\u001b[0m\u001b[0;34m\u001b[0m\u001b[0;34m\u001b[0m\u001b[0m\n\u001b[0m",
      "\u001b[0;31mNameError\u001b[0m: name 'explore' is not defined"
     ]
    }
   ],
   "source": [
    "explore.explore_univariate(train, cat_vars, quant_vars)"
   ]
  },
  {
   "cell_type": "code",
   "execution_count": null,
   "id": "eb4b8045-946b-4472-8ea5-2b84934a2244",
   "metadata": {},
   "outputs": [],
   "source": []
  },
  {
   "cell_type": "code",
   "execution_count": null,
   "id": "f6b35837-3d8c-4386-90a6-4fa93827fe95",
   "metadata": {},
   "outputs": [],
   "source": []
  },
  {
   "cell_type": "code",
   "execution_count": null,
   "id": "cfb94978-22ef-4d16-8a1a-a75c3ae806b3",
   "metadata": {},
   "outputs": [],
   "source": []
  },
  {
   "cell_type": "code",
   "execution_count": null,
   "id": "2894666f-9e44-4597-b9e1-e73325985352",
   "metadata": {},
   "outputs": [],
   "source": []
  },
  {
   "cell_type": "code",
   "execution_count": null,
   "id": "57bbbc61-18e8-40bf-ad49-5a66142f2784",
   "metadata": {},
   "outputs": [],
   "source": [
    "df = df.drop(columns=['Crash ID', 'Average Daily Traffic Amount', 'Average Daily Traffic Year', 'Highway Number',\n",
    "                     'Surface Condition', 'Surface Type', 'Vehicle Hit and Run Flag',\n",
    "                     'Person Blood Alcohol Content Test Result', 'Person Drug Test Result',\n",
    "                     'Crash Month', 'Crash Year', 'Number of Lanes', 'License Plate State',\n",
    "                     'Driver License Type', 'Crash Severity', 'Unit Death Count', 'Unit Not Injured Count',\n",
    "                     'Person Death Count', 'Person Injury Severity', 'Person Not Injured Count', 'Person Total Injury Count'])"
   ]
  },
  {
   "cell_type": "code",
   "execution_count": null,
   "id": "c4a3d490-be77-4299-b198-cbdb621c34f5",
   "metadata": {},
   "outputs": [],
   "source": [
    "df = df.rename(str.lower, axis='columns')"
   ]
  },
  {
   "cell_type": "code",
   "execution_count": null,
   "id": "8d97add5-0a46-44c3-8ee1-cc3e1cca995c",
   "metadata": {},
   "outputs": [],
   "source": [
    "df = df.rename(columns = {'crash date':'date', 'day of week':'day',\n",
    "                         'weather condition':'weather', 'vehicle color':'color', 'vehicle make':'make',\n",
    "                         'person age':'age', 'person ethnicity':'ethnicity', 'crash death count':'deceased', 'crash time':'time',\n",
    "                         'crash total injury count':'injured', 'driver license state':'dl_state', 'person gender':'gender',\n",
    "                         'person helmet':'helmet', 'person type':'driver'})"
   ]
  },
  {
   "cell_type": "code",
   "execution_count": null,
   "id": "e5dd86e7-63f0-45ce-963c-67241d368dbc",
   "metadata": {},
   "outputs": [],
   "source": [
    "df = df.replace(to_replace = {'5 - DRIVER OF MOTORCYCLE TYPE VEHICLE', '6 - PASSENGER/OCCUPANT ON MOTORCYCLE TYPE VEHICLE'},\n",
    "                value = {'driver', 'passenger'})"
   ]
  },
  {
   "cell_type": "code",
   "execution_count": null,
   "id": "6d935dab-6628-4534-a980-fe84558b4ae9",
   "metadata": {},
   "outputs": [],
   "source": [
    "df = df.replace(to_replace = {'1 - NOT WORN', '99 - UNKNOWN IF WORN'}, value = 'not worn')"
   ]
  },
  {
   "cell_type": "code",
   "execution_count": null,
   "id": "37ede1ca-cb68-44f7-a1c9-f3119f80e948",
   "metadata": {},
   "outputs": [],
   "source": [
    "df = df.replace(to_replace = {'2 - WORN, DAMAGED', '3 - WORN, NOT DAMAGED', '4 - WORN, UNK DAMAGE'}, value = 'worn')"
   ]
  },
  {
   "cell_type": "code",
   "execution_count": null,
   "id": "4d5bdf9a-0a73-4601-9fdb-ab532da1c8d6",
   "metadata": {},
   "outputs": [],
   "source": [
    "df = df.replace(to_replace = {'2 - FEMALE'}, value = 'female')"
   ]
  },
  {
   "cell_type": "code",
   "execution_count": null,
   "id": "57ebc055-1486-47b0-917e-4296f9f8df9c",
   "metadata": {
    "tags": []
   },
   "outputs": [],
   "source": [
    "df = df.replace(to_replace = {'1 - MALE'}, value = 'male')"
   ]
  },
  {
   "cell_type": "code",
   "execution_count": null,
   "id": "c34281ca-c86e-4752-abcb-e00cae389829",
   "metadata": {},
   "outputs": [],
   "source": [
    "df['gender'] = df['gender'].replace({'99 - UNKNOWN':'male', 'No Data':'male'})"
   ]
  },
  {
   "cell_type": "code",
   "execution_count": null,
   "id": "c8f6f985-fb59-483b-9696-15638b1bfef4",
   "metadata": {},
   "outputs": [],
   "source": [
    "df['ethnicity'] = df['ethnicity'].replace({'No Data':'98 - OTHER'})"
   ]
  },
  {
   "cell_type": "code",
   "execution_count": null,
   "id": "4681a9d9-8c27-461d-aa07-9ccfc613a05c",
   "metadata": {},
   "outputs": [],
   "source": [
    "df['age'] = df['age'].replace({'No Data':37})"
   ]
  },
  {
   "cell_type": "code",
   "execution_count": null,
   "id": "55df5e46-6685-4c20-9a07-87f0b0285111",
   "metadata": {},
   "outputs": [],
   "source": [
    "df['make'] = df['make'].replace({'No Data':'unknown', 'UNKNOWN':'unknown'})"
   ]
  },
  {
   "cell_type": "code",
   "execution_count": null,
   "id": "1c60b996-14bb-4827-a595-6483d45975af",
   "metadata": {},
   "outputs": [],
   "source": [
    "df['color'] = df['color'].replace({'No Data':'99 - UNKNOWN'})"
   ]
  },
  {
   "cell_type": "code",
   "execution_count": null,
   "id": "8f6156f6-a49f-40fe-8daa-436b04f95c2d",
   "metadata": {},
   "outputs": [],
   "source": [
    "df['dl_state'] = df['dl_state'].replace({'No Data':'UN - UNKNOWN'})"
   ]
  },
  {
   "cell_type": "code",
   "execution_count": null,
   "id": "1d7feaa8-9181-440d-933a-998a7317c2b8",
   "metadata": {},
   "outputs": [],
   "source": [
    "df['injured'] = df['injured'].replace({2:1, 3:1, 4:1, 5:1, 6:1, 7:1})"
   ]
  },
  {
   "cell_type": "code",
   "execution_count": null,
   "id": "4e948e93-e81e-4fab-9bd2-0c46f4620ad0",
   "metadata": {},
   "outputs": [],
   "source": [
    "df['deceased'] = df['deceased'].replace({2:0})"
   ]
  },
  {
   "cell_type": "code",
   "execution_count": null,
   "id": "c8801c29-ade6-4682-92b2-c76a09184f84",
   "metadata": {},
   "outputs": [],
   "source": [
    "df['latitude'] = df['latitude'].replace({'No Data':0})"
   ]
  },
  {
   "cell_type": "code",
   "execution_count": null,
   "id": "d32b89ff-d319-4a79-a7f0-d6eff4061594",
   "metadata": {},
   "outputs": [],
   "source": [
    "df['longitude'] = df['longitude'].replace({'No Data':0})"
   ]
  },
  {
   "cell_type": "code",
   "execution_count": null,
   "id": "afaa4dc2-5a80-4858-bc1c-150de43416ef",
   "metadata": {},
   "outputs": [],
   "source": [
    "df['weather'] = df['weather'].str[4:]"
   ]
  },
  {
   "cell_type": "code",
   "execution_count": null,
   "id": "90f54548-fa1e-491b-ac52-5edaae859aaa",
   "metadata": {},
   "outputs": [],
   "source": [
    "df['weather'] = df['weather'].str.strip()"
   ]
  },
  {
   "cell_type": "code",
   "execution_count": null,
   "id": "6a04be62-4207-4186-a676-a5136bf2ed01",
   "metadata": {},
   "outputs": [],
   "source": [
    "df['dl_state'] = df['dl_state'].str[5:]"
   ]
  },
  {
   "cell_type": "code",
   "execution_count": null,
   "id": "c9b8eef5-5048-4c68-ba21-97fa00816dd9",
   "metadata": {},
   "outputs": [],
   "source": [
    "df['color'] = df['color'].str[6:]"
   ]
  },
  {
   "cell_type": "code",
   "execution_count": null,
   "id": "4e43b3e6-d38f-4a79-86f7-374111b47217",
   "metadata": {},
   "outputs": [],
   "source": [
    "df['ethnicity'] = df['ethnicity'].str[4:]"
   ]
  },
  {
   "cell_type": "code",
   "execution_count": null,
   "id": "97bf1c1a-8dc5-4297-ab63-910e6da0f639",
   "metadata": {},
   "outputs": [],
   "source": [
    "df['ethnicity'] = df['ethnicity'].str.strip()"
   ]
  },
  {
   "cell_type": "code",
   "execution_count": null,
   "id": "18dbe9bd-6c4a-497b-9cec-df864bacdc22",
   "metadata": {},
   "outputs": [],
   "source": [
    "df.time = df.time.astype(str)\n",
    "df['time'] = df['time'].apply(lambda x: x.zfill(4))\n",
    "df.time = df.time.str[:2] + ':' + df.time.str[-2:]"
   ]
  },
  {
   "cell_type": "code",
   "execution_count": null,
   "id": "aad5b4e4-46fb-4d3d-865c-8f97fc323097",
   "metadata": {},
   "outputs": [],
   "source": [
    "df['crash_date'] = df['date'] +' '+ df['time']"
   ]
  },
  {
   "cell_type": "code",
   "execution_count": null,
   "id": "dd1a0997-8041-44da-af6e-256d147662b5",
   "metadata": {
    "tags": []
   },
   "outputs": [],
   "source": [
    "df['crash_date'] = pd.to_datetime(df['crash_date'])"
   ]
  },
  {
   "cell_type": "code",
   "execution_count": null,
   "id": "0afbabee-71d6-4601-b400-a0fb6fba6613",
   "metadata": {},
   "outputs": [],
   "source": [
    "df = df.set_index('crash_date').sort_index()"
   ]
  },
  {
   "cell_type": "code",
   "execution_count": null,
   "id": "f30c9957-35ca-42d6-af11-5912ef986bcc",
   "metadata": {},
   "outputs": [],
   "source": [
    "convert_dict_int = {'age': int, 'deceased':int, 'injured':int, 'latitude':float, 'longitude':float}\n",
    "df = df.astype(convert_dict_int)"
   ]
  },
  {
   "cell_type": "code",
   "execution_count": null,
   "id": "e1e6142c-2827-4913-a9f2-43d9a0489ae4",
   "metadata": {},
   "outputs": [],
   "source": [
    "#get_dummies creates a seperate df of booleans for the identified columns below. Cleaning for the decission tree.\n",
    "dummy_df = pd.get_dummies(df[['driver', 'helmet', 'gender']], dummy_na=False, drop_first=[True, True])"
   ]
  },
  {
   "cell_type": "code",
   "execution_count": null,
   "id": "e514f97c-b632-41fa-bbfe-c9ef4ee0ba85",
   "metadata": {
    "tags": []
   },
   "outputs": [],
   "source": [
    "df = df.drop(columns=['driver', 'helmet', 'gender', 'date', 'time'])"
   ]
  },
  {
   "cell_type": "code",
   "execution_count": null,
   "id": "06996b0e-a253-455e-878d-f0029088d8fd",
   "metadata": {},
   "outputs": [],
   "source": [
    "df = pd.concat([df, dummy_df], axis=1)"
   ]
  },
  {
   "cell_type": "code",
   "execution_count": null,
   "id": "3b6845e1-f212-4a46-986b-bb3473878353",
   "metadata": {},
   "outputs": [],
   "source": [
    "df = df.rename(columns = {'driver_passenger':'driver', 'helmet_worn':'helmet', 'gender_male':'male'})"
   ]
  },
  {
   "cell_type": "code",
   "execution_count": null,
   "id": "a4231b38-1b45-4f98-ab81-3c15878e6076",
   "metadata": {},
   "outputs": [],
   "source": [
    "convert_dict_int = {'driver': int, 'helmet':int, 'male':int}\n",
    "df = df.astype(convert_dict_int)"
   ]
  },
  {
   "cell_type": "code",
   "execution_count": null,
   "id": "56960354-db8c-4a64-9ca4-e15155d48424",
   "metadata": {},
   "outputs": [],
   "source": [
    "df.head()"
   ]
  },
  {
   "cell_type": "code",
   "execution_count": null,
   "id": "85b213c2-b9c8-446a-a400-01babb78c182",
   "metadata": {},
   "outputs": [],
   "source": [
    "df.info()"
   ]
  },
  {
   "cell_type": "code",
   "execution_count": null,
   "id": "16e95d13-8bb9-4bf5-9754-d33cc0195f73",
   "metadata": {},
   "outputs": [],
   "source": [
    "df.describe().T"
   ]
  },
  {
   "cell_type": "code",
   "execution_count": null,
   "id": "6b81b9d8-9296-4342-9af5-a31e456375b3",
   "metadata": {},
   "outputs": [],
   "source": []
  },
  {
   "cell_type": "code",
   "execution_count": null,
   "id": "5af6e581-66bc-4ede-a1a9-488a033bae98",
   "metadata": {
    "tags": []
   },
   "outputs": [],
   "source": [
    "for c in df.columns:\n",
    "    print (\"---- %s ---\" % c)\n",
    "    print (df[c].value_counts())"
   ]
  },
  {
   "cell_type": "code",
   "execution_count": null,
   "id": "cc04d4de-3550-47dd-9037-cb605991d33e",
   "metadata": {},
   "outputs": [],
   "source": [
    "df1 = df[['city', 'county', 'latitude', 'longitude']]\n",
    "df1.head()"
   ]
  },
  {
   "cell_type": "code",
   "execution_count": null,
   "id": "f145ce3a-d6a0-4847-99d2-215061410af4",
   "metadata": {},
   "outputs": [],
   "source": [
    "temp_df = df.loc[(df['latitude'] == 'No Data')]\n",
    "temp_df"
   ]
  }
 ],
 "metadata": {
  "kernelspec": {
   "display_name": "Python 3",
   "language": "python",
   "name": "python3"
  },
  "language_info": {
   "codemirror_mode": {
    "name": "ipython",
    "version": 3
   },
   "file_extension": ".py",
   "mimetype": "text/x-python",
   "name": "python",
   "nbconvert_exporter": "python",
   "pygments_lexer": "ipython3",
   "version": "3.8.8"
  }
 },
 "nbformat": 4,
 "nbformat_minor": 5
}
