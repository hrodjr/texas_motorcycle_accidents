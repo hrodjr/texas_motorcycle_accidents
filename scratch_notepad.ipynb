{
 "cells": [
  {
   "cell_type": "code",
   "execution_count": 1,
   "id": "e4b13bcd-aedb-4004-a66d-9350c2abae61",
   "metadata": {},
   "outputs": [],
   "source": [
    "#imports\n",
    "import pandas as pd\n",
    "import numpy as np\n",
    "import seaborn as sns\n",
    "import statsmodels.api as sm\n",
    "import scipy.stats as stats\n",
    "import matplotlib.pyplot as plt\n",
    "#ignore warnings\n",
    "import warnings\n",
    "warnings.filterwarnings('ignore')\n",
    "\n",
    "#Project imports\n",
    "import explore\n",
    "import wrangle\n",
    "\n",
    "from math import sqrt\n",
    "from datetime import datetime\n",
    "from sklearn.metrics import mean_squared_error\n",
    "from sklearn.model_selection import train_test_split"
   ]
  },
  {
   "cell_type": "code",
   "execution_count": 2,
   "id": "61ec376b-1a5f-46ca-9879-1501e5e3df8d",
   "metadata": {},
   "outputs": [
    {
     "data": {
      "text/html": [
       "<div>\n",
       "<style scoped>\n",
       "    .dataframe tbody tr th:only-of-type {\n",
       "        vertical-align: middle;\n",
       "    }\n",
       "\n",
       "    .dataframe tbody tr th {\n",
       "        vertical-align: top;\n",
       "    }\n",
       "\n",
       "    .dataframe thead th {\n",
       "        text-align: right;\n",
       "    }\n",
       "</style>\n",
       "<table border=\"1\" class=\"dataframe\">\n",
       "  <thead>\n",
       "    <tr style=\"text-align: right;\">\n",
       "      <th></th>\n",
       "      <th>Crash ID</th>\n",
       "      <th>Average Daily Traffic Amount</th>\n",
       "      <th>Average Daily Traffic Year</th>\n",
       "      <th>City</th>\n",
       "      <th>County</th>\n",
       "      <th>Crash Date</th>\n",
       "      <th>Crash Death Count</th>\n",
       "      <th>Crash Month</th>\n",
       "      <th>Crash Severity</th>\n",
       "      <th>Crash Time</th>\n",
       "      <th>...</th>\n",
       "      <th>Person Blood Alcohol Content Test Result</th>\n",
       "      <th>Person Death Count</th>\n",
       "      <th>Person Drug Test Result</th>\n",
       "      <th>Person Ethnicity</th>\n",
       "      <th>Person Gender</th>\n",
       "      <th>Person Helmet</th>\n",
       "      <th>Person Injury Severity</th>\n",
       "      <th>Person Not Injured Count</th>\n",
       "      <th>Person Total Injury Count</th>\n",
       "      <th>Person Type</th>\n",
       "    </tr>\n",
       "  </thead>\n",
       "  <tbody>\n",
       "    <tr>\n",
       "      <th>0</th>\n",
       "      <td>11825679</td>\n",
       "      <td>21549</td>\n",
       "      <td>2018</td>\n",
       "      <td>SAN ANTONIO</td>\n",
       "      <td>BEXAR</td>\n",
       "      <td>1/1/11</td>\n",
       "      <td>0</td>\n",
       "      <td>1</td>\n",
       "      <td>B - SUSPECTED MINOR INJURY</td>\n",
       "      <td>2230</td>\n",
       "      <td>...</td>\n",
       "      <td>No Data</td>\n",
       "      <td>0</td>\n",
       "      <td>97 - NOT APPLICABLE</td>\n",
       "      <td>H - HISPANIC</td>\n",
       "      <td>1 - MALE</td>\n",
       "      <td>1 - NOT WORN</td>\n",
       "      <td>B - SUSPECTED MINOR INJURY</td>\n",
       "      <td>0</td>\n",
       "      <td>1</td>\n",
       "      <td>5 - DRIVER OF MOTORCYCLE TYPE VEHICLE</td>\n",
       "    </tr>\n",
       "    <tr>\n",
       "      <th>1</th>\n",
       "      <td>11825679</td>\n",
       "      <td>21549</td>\n",
       "      <td>2018</td>\n",
       "      <td>SAN ANTONIO</td>\n",
       "      <td>BEXAR</td>\n",
       "      <td>1/1/11</td>\n",
       "      <td>0</td>\n",
       "      <td>1</td>\n",
       "      <td>B - SUSPECTED MINOR INJURY</td>\n",
       "      <td>2230</td>\n",
       "      <td>...</td>\n",
       "      <td>No Data</td>\n",
       "      <td>0</td>\n",
       "      <td>No Data</td>\n",
       "      <td>H - HISPANIC</td>\n",
       "      <td>2 - FEMALE</td>\n",
       "      <td>1 - NOT WORN</td>\n",
       "      <td>C - POSSIBLE INJURY</td>\n",
       "      <td>0</td>\n",
       "      <td>1</td>\n",
       "      <td>6 - PASSENGER/OCCUPANT ON MOTORCYCLE TYPE VEHICLE</td>\n",
       "    </tr>\n",
       "  </tbody>\n",
       "</table>\n",
       "<p>2 rows × 39 columns</p>\n",
       "</div>"
      ],
      "text/plain": [
       "   Crash ID Average Daily Traffic Amount Average Daily Traffic Year  \\\n",
       "0  11825679                        21549                       2018   \n",
       "1  11825679                        21549                       2018   \n",
       "\n",
       "          City County Crash Date  Crash Death Count  Crash Month  \\\n",
       "0  SAN ANTONIO  BEXAR     1/1/11                  0            1   \n",
       "1  SAN ANTONIO  BEXAR     1/1/11                  0            1   \n",
       "\n",
       "               Crash Severity  Crash Time  ...  \\\n",
       "0  B - SUSPECTED MINOR INJURY        2230  ...   \n",
       "1  B - SUSPECTED MINOR INJURY        2230  ...   \n",
       "\n",
       "   Person Blood Alcohol Content Test Result  Person Death Count  \\\n",
       "0                                   No Data                   0   \n",
       "1                                   No Data                   0   \n",
       "\n",
       "  Person Drug Test Result Person Ethnicity Person Gender Person Helmet  \\\n",
       "0     97 - NOT APPLICABLE     H - HISPANIC      1 - MALE  1 - NOT WORN   \n",
       "1                 No Data     H - HISPANIC    2 - FEMALE  1 - NOT WORN   \n",
       "\n",
       "       Person Injury Severity Person Not Injured Count  \\\n",
       "0  B - SUSPECTED MINOR INJURY                        0   \n",
       "1         C - POSSIBLE INJURY                        0   \n",
       "\n",
       "  Person Total Injury Count                                        Person Type  \n",
       "0                         1              5 - DRIVER OF MOTORCYCLE TYPE VEHICLE  \n",
       "1                         1  6 - PASSENGER/OCCUPANT ON MOTORCYCLE TYPE VEHICLE  \n",
       "\n",
       "[2 rows x 39 columns]"
      ]
     },
     "execution_count": 2,
     "metadata": {},
     "output_type": "execute_result"
    }
   ],
   "source": [
    "df = pd.read_csv('texasma.csv')\n",
    "df.head(2)"
   ]
  },
  {
   "cell_type": "code",
   "execution_count": 3,
   "id": "616f3fb7-2613-4864-9f95-61c9de8a6721",
   "metadata": {},
   "outputs": [
    {
     "data": {
      "text/html": [
       "<div>\n",
       "<style scoped>\n",
       "    .dataframe tbody tr th:only-of-type {\n",
       "        vertical-align: middle;\n",
       "    }\n",
       "\n",
       "    .dataframe tbody tr th {\n",
       "        vertical-align: top;\n",
       "    }\n",
       "\n",
       "    .dataframe thead th {\n",
       "        text-align: right;\n",
       "    }\n",
       "</style>\n",
       "<table border=\"1\" class=\"dataframe\">\n",
       "  <thead>\n",
       "    <tr style=\"text-align: right;\">\n",
       "      <th></th>\n",
       "      <th>city</th>\n",
       "      <th>county</th>\n",
       "      <th>deceased</th>\n",
       "      <th>injured</th>\n",
       "      <th>day</th>\n",
       "      <th>latitude</th>\n",
       "      <th>longitude</th>\n",
       "      <th>age</th>\n",
       "      <th>driver</th>\n",
       "      <th>helmet</th>\n",
       "      <th>male</th>\n",
       "    </tr>\n",
       "    <tr>\n",
       "      <th>crash_date</th>\n",
       "      <th></th>\n",
       "      <th></th>\n",
       "      <th></th>\n",
       "      <th></th>\n",
       "      <th></th>\n",
       "      <th></th>\n",
       "      <th></th>\n",
       "      <th></th>\n",
       "      <th></th>\n",
       "      <th></th>\n",
       "      <th></th>\n",
       "    </tr>\n",
       "  </thead>\n",
       "  <tbody>\n",
       "    <tr>\n",
       "      <th>2011-01-01 22:30:00</th>\n",
       "      <td>SAN ANTONIO</td>\n",
       "      <td>BEXAR</td>\n",
       "      <td>0</td>\n",
       "      <td>1</td>\n",
       "      <td>SATURDAY</td>\n",
       "      <td>29.358915</td>\n",
       "      <td>-98.566314</td>\n",
       "      <td>27</td>\n",
       "      <td>1</td>\n",
       "      <td>0</td>\n",
       "      <td>1</td>\n",
       "    </tr>\n",
       "    <tr>\n",
       "      <th>2011-01-01 22:30:00</th>\n",
       "      <td>SAN ANTONIO</td>\n",
       "      <td>BEXAR</td>\n",
       "      <td>0</td>\n",
       "      <td>1</td>\n",
       "      <td>SATURDAY</td>\n",
       "      <td>29.358915</td>\n",
       "      <td>-98.566314</td>\n",
       "      <td>28</td>\n",
       "      <td>0</td>\n",
       "      <td>0</td>\n",
       "      <td>0</td>\n",
       "    </tr>\n",
       "    <tr>\n",
       "      <th>2011-01-03 12:15:00</th>\n",
       "      <td>SAN ANTONIO</td>\n",
       "      <td>BEXAR</td>\n",
       "      <td>1</td>\n",
       "      <td>0</td>\n",
       "      <td>MONDAY</td>\n",
       "      <td>29.537465</td>\n",
       "      <td>-98.424572</td>\n",
       "      <td>53</td>\n",
       "      <td>1</td>\n",
       "      <td>0</td>\n",
       "      <td>1</td>\n",
       "    </tr>\n",
       "    <tr>\n",
       "      <th>2011-01-05 21:15:00</th>\n",
       "      <td>SAN ANTONIO</td>\n",
       "      <td>BEXAR</td>\n",
       "      <td>0</td>\n",
       "      <td>1</td>\n",
       "      <td>WEDNESDAY</td>\n",
       "      <td>29.513015</td>\n",
       "      <td>-98.535152</td>\n",
       "      <td>47</td>\n",
       "      <td>1</td>\n",
       "      <td>0</td>\n",
       "      <td>1</td>\n",
       "    </tr>\n",
       "    <tr>\n",
       "      <th>2011-01-06 12:10:00</th>\n",
       "      <td>AUSTIN</td>\n",
       "      <td>WILLIAMSON</td>\n",
       "      <td>0</td>\n",
       "      <td>1</td>\n",
       "      <td>THURSDAY</td>\n",
       "      <td>30.476422</td>\n",
       "      <td>-97.764810</td>\n",
       "      <td>19</td>\n",
       "      <td>1</td>\n",
       "      <td>1</td>\n",
       "      <td>1</td>\n",
       "    </tr>\n",
       "  </tbody>\n",
       "</table>\n",
       "</div>"
      ],
      "text/plain": [
       "                            city      county  deceased  injured        day  \\\n",
       "crash_date                                                                   \n",
       "2011-01-01 22:30:00  SAN ANTONIO       BEXAR         0        1   SATURDAY   \n",
       "2011-01-01 22:30:00  SAN ANTONIO       BEXAR         0        1   SATURDAY   \n",
       "2011-01-03 12:15:00  SAN ANTONIO       BEXAR         1        0     MONDAY   \n",
       "2011-01-05 21:15:00  SAN ANTONIO       BEXAR         0        1  WEDNESDAY   \n",
       "2011-01-06 12:10:00       AUSTIN  WILLIAMSON         0        1   THURSDAY   \n",
       "\n",
       "                      latitude  longitude  age  driver  helmet  male  \n",
       "crash_date                                                            \n",
       "2011-01-01 22:30:00  29.358915 -98.566314   27       1       0     1  \n",
       "2011-01-01 22:30:00  29.358915 -98.566314   28       0       0     0  \n",
       "2011-01-03 12:15:00  29.537465 -98.424572   53       1       0     1  \n",
       "2011-01-05 21:15:00  29.513015 -98.535152   47       1       0     1  \n",
       "2011-01-06 12:10:00  30.476422 -97.764810   19       1       1     1  "
      ]
     },
     "execution_count": 3,
     "metadata": {},
     "output_type": "execute_result"
    }
   ],
   "source": [
    "df = wrangle.cleaned(df)\n",
    "df.head()"
   ]
  },
  {
   "cell_type": "code",
   "execution_count": null,
   "id": "5d977951-09ed-4e2f-bd45-c8872dc95b30",
   "metadata": {
    "jupyter": {
     "source_hidden": true
    },
    "tags": []
   },
   "outputs": [],
   "source": [
    "%%HTML\n",
    "<div class='tableauPlaceholder' id='viz1634145058280' style='position: relative'><noscript><a href='#'><img alt='TXMC ' src='https:&#47;&#47;public.tableau.com&#47;static&#47;images&#47;Te&#47;TexasMotorcycleDeaths2011-2021&#47;TXMC&#47;1_rss.png' style='border: none' /></a></noscript><object class='tableauViz'  style='display:none;'><param name='host_url' value='https%3A%2F%2Fpublic.tableau.com%2F' /> <param name='embed_code_version' value='3' /> <param name='path' value='views&#47;TexasMotorcycleDeaths2011-2021&#47;TXMC?:language=en-US&amp;:embed=true' /> <param name='toolbar' value='yes' /><param name='static_image' value='https:&#47;&#47;public.tableau.com&#47;static&#47;images&#47;Te&#47;TexasMotorcycleDeaths2011-2021&#47;TXMC&#47;1.png' /> <param name='animate_transition' value='yes' /><param name='display_static_image' value='yes' /><param name='display_spinner' value='yes' /><param name='display_overlay' value='yes' /><param name='display_count' value='yes' /><param name='language' value='en-US' /></object></div>                <script type='text/javascript'>                    var divElement = document.getElementById('viz1634145058280');                    var vizElement = divElement.getElementsByTagName('object')[0];                    if ( divElement.offsetWidth > 800 ) { vizElement.style.minWidth='420px';vizElement.style.maxWidth='1050px';vizElement.style.width='100%';vizElement.style.minHeight='587px';vizElement.style.maxHeight='887px';vizElement.style.height=(divElement.offsetWidth*0.75)+'px';} else if ( divElement.offsetWidth > 500 ) { vizElement.style.minWidth='420px';vizElement.style.maxWidth='1050px';vizElement.style.width='100%';vizElement.style.minHeight='587px';vizElement.style.maxHeight='887px';vizElement.style.height=(divElement.offsetWidth*0.75)+'px';} else { vizElement.style.width='100%';vizElement.style.height='977px';}                     var scriptElement = document.createElement('script');                    scriptElement.src = 'https://public.tableau.com/javascripts/api/viz_v1.js';                    vizElement.parentNode.insertBefore(scriptElement, vizElement);                </script>"
   ]
  },
  {
   "cell_type": "code",
   "execution_count": null,
   "id": "2b83afa1-c87f-4ab3-9213-b9539ba1ee3a",
   "metadata": {
    "jupyter": {
     "source_hidden": true
    },
    "tags": []
   },
   "outputs": [],
   "source": [
    "df = df[df.latitude != 0]"
   ]
  },
  {
   "cell_type": "code",
   "execution_count": null,
   "id": "4846d704-fcd6-4331-9164-2099a4011478",
   "metadata": {
    "jupyter": {
     "source_hidden": true
    },
    "tags": []
   },
   "outputs": [],
   "source": [
    "for c in df.columns:\n",
    "    print (\"---- %s ---\" % c)\n",
    "    print (df[c].value_counts())"
   ]
  },
  {
   "cell_type": "code",
   "execution_count": null,
   "id": "b97ed4d5-30c9-4b7c-b962-7b6853c1189e",
   "metadata": {
    "jupyter": {
     "source_hidden": true
    },
    "tags": []
   },
   "outputs": [],
   "source": [
    "df.to_csv('/Users/hector/codeup-data-science/texas_motorcycle_accidents/txmc.csv')"
   ]
  },
  {
   "cell_type": "code",
   "execution_count": null,
   "id": "fe1f2dcc-d128-461e-b201-eb1ddceee2e5",
   "metadata": {
    "jupyter": {
     "source_hidden": true
    },
    "tags": []
   },
   "outputs": [],
   "source": [
    "df.deceased.value_counts()"
   ]
  },
  {
   "cell_type": "code",
   "execution_count": null,
   "id": "5dc275dc-f644-4bfe-92c4-35739d9a959b",
   "metadata": {
    "jupyter": {
     "source_hidden": true
    },
    "tags": []
   },
   "outputs": [],
   "source": [
    "#### reduce this to county's where deceased is greater then 0.\n",
    "fig, ax = plt.subplots(figsize=(100, 25))\n",
    "plt.xticks(rotation=90)\n",
    "sns.barplot(x='county', y='deceased', data=train)"
   ]
  },
  {
   "cell_type": "markdown",
   "id": "3b6a689a-f785-4e08-aef2-019340ff18a5",
   "metadata": {
    "jupyter": {
     "source_hidden": true
    },
    "tags": []
   },
   "source": [
    "##### Split"
   ]
  },
  {
   "cell_type": "code",
   "execution_count": null,
   "id": "7bc47c98-5d2a-48cd-bc51-d38540941578",
   "metadata": {
    "jupyter": {
     "source_hidden": true
    },
    "tags": []
   },
   "outputs": [],
   "source": [
    "#initial hypothesis test and model was done on this split.\n",
    "train, validate, test = prepare.train_validate_test_split(df, 'deceased', seed=123)"
   ]
  },
  {
   "cell_type": "code",
   "execution_count": null,
   "id": "e2630564-4431-4f15-9c1f-eeeb0b3ed110",
   "metadata": {
    "jupyter": {
     "source_hidden": true
    },
    "tags": []
   },
   "outputs": [],
   "source": [
    "### Classification\n",
    "# Whether or not a person survives (helmet, driver)\n",
    "\n",
    "### Clustering\n",
    "# Which age group die in an accident (age)\n",
    "# where are most accidents occuring (lat/long)\n",
    "\n",
    "### Timeseries\n",
    "# predict the number of motorcycle accidents over the next two years (timeseries)\n",
    "# How likely are you to be killed in a motorcycle accident (injured)"
   ]
  },
  {
   "cell_type": "markdown",
   "id": "ec3a78a6-c903-4efa-8bc0-0fb446436a0c",
   "metadata": {
    "jupyter": {
     "source_hidden": true
    },
    "tags": []
   },
   "source": [
    "### Univariate"
   ]
  },
  {
   "cell_type": "code",
   "execution_count": null,
   "id": "ea2c441d-7936-4cdf-b4b7-22b8b5e1abf5",
   "metadata": {
    "jupyter": {
     "source_hidden": true
    },
    "tags": []
   },
   "outputs": [],
   "source": [
    "cat_vars = ['injured', 'driver', 'helmet', 'male']\n",
    "quant_vars = ['age']"
   ]
  },
  {
   "cell_type": "code",
   "execution_count": null,
   "id": "c18c7a07-7b57-4bd2-a720-1837e84d533e",
   "metadata": {
    "jupyter": {
     "source_hidden": true
    },
    "tags": []
   },
   "outputs": [],
   "source": [
    "explore.explore_univariate(train, cat_vars, quant_vars)"
   ]
  },
  {
   "cell_type": "markdown",
   "id": "d3e9cc15-3a65-46f1-aa6b-9616a8139c2c",
   "metadata": {
    "jupyter": {
     "source_hidden": true
    },
    "tags": []
   },
   "source": [
    "##### Key Takeaways\n",
    "1. 82.5% riders involved in a motorcycle accident are injured.\n",
    "2. 92.7% riders involved in a motorcycle accident are the drivers.\n",
    "3. About half of riders involved in a motorcylce accident where a helmet.\n",
    "4. 88.4% are male riders.\n",
    "5. Average age of riders involved in an accident are 38 years old."
   ]
  },
  {
   "cell_type": "markdown",
   "id": "5ecfd4d9-f363-4960-adb4-9b2928e735f8",
   "metadata": {
    "jupyter": {
     "source_hidden": true
    },
    "tags": []
   },
   "source": [
    "### Bivariate"
   ]
  },
  {
   "cell_type": "code",
   "execution_count": null,
   "id": "a2bd4224-3eeb-4102-839d-beeeeff8fe53",
   "metadata": {
    "jupyter": {
     "source_hidden": true
    },
    "tags": []
   },
   "outputs": [],
   "source": [
    "explore.explore_bivariate(train, 'deceased', cat_vars, quant_vars)"
   ]
  },
  {
   "cell_type": "markdown",
   "id": "c935f9fa-64ea-41da-b36c-2f82c15b8126",
   "metadata": {
    "jupyter": {
     "source_hidden": true
    },
    "tags": []
   },
   "source": [
    "##### Key Takeaways\n",
    "1. Of those riders injured in the accident 55 died.\n",
    "2. Drivers account for 174 deaths and passangers account for 20.\n",
    "3. 124 riders who died 124 were NOT wearing a helmet.\n",
    "4. Riders who died are almost equal in gender.\n",
    "5. Majority of riders who died are in the age range of 40 - 50 years old."
   ]
  },
  {
   "cell_type": "markdown",
   "id": "c3519472-06dd-43df-8d6d-c075f82a9ef0",
   "metadata": {
    "jupyter": {
     "source_hidden": true
    },
    "tags": []
   },
   "source": [
    "# Hypothesis Test"
   ]
  },
  {
   "cell_type": "code",
   "execution_count": null,
   "id": "e3121763-debd-49c2-a587-d039c6883fed",
   "metadata": {
    "jupyter": {
     "source_hidden": true
    },
    "tags": []
   },
   "outputs": [],
   "source": [
    "alpha = 0.5"
   ]
  },
  {
   "cell_type": "markdown",
   "id": "682450b2-4469-45e7-bace-a87cf1238afa",
   "metadata": {
    "jupyter": {
     "source_hidden": true
    },
    "tags": []
   },
   "source": [
    "1. How likely is a rider to survive a motorcycle accident not wearing a helmet? (chi2)\n",
    "    - Null: Its not likely a rider will survive a motorcycle accident if not wearing a helmet.\n",
    "    - Alternate: It is likely the rider will survive a motorcycle accident if not wearing a helmet."
   ]
  },
  {
   "cell_type": "code",
   "execution_count": null,
   "id": "bd298e8c-f833-4218-a004-c360554c2231",
   "metadata": {
    "jupyter": {
     "source_hidden": true
    },
    "tags": []
   },
   "outputs": [],
   "source": [
    "Null = 'Its not likely a rider will survive a motorcycle accident if not wearing a helmet.'\n",
    "Alternate = 'It is likely the rider will survive a motorcycle accident if not wearing a helmet.'\n",
    "\n",
    "observed = pd.crosstab(train.deceased, train.helmet)\n",
    "chi2, p, degf, expected = stats.chi2_contingency(observed)\n",
    "\n",
    "print(f'chi^2 = {chi2:.4f}')\n",
    "print(f'p     = {p:.4f}')\n",
    "\n",
    "print('\\n')\n",
    "if p < alpha:\n",
    "    print(f'We reject the null and accept the alternate: {Alternate}')\n",
    "else:\n",
    "    print(f'We fail to reject the null and accept the null: {Null}')"
   ]
  },
  {
   "cell_type": "markdown",
   "id": "86582721-5945-4c7f-9e66-6bba5975185d",
   "metadata": {
    "jupyter": {
     "source_hidden": true
    },
    "tags": []
   },
   "source": [
    "2. Are people over 40 more likely to die in a motorcycle accident? (ttest 1samp)\n",
    "    - Null: People over 40 are NOT more likely to die in a motorcycle accident.\n",
    "    - Alternate: People over 40 are more likely to die in a motorcycle accident."
   ]
  },
  {
   "cell_type": "code",
   "execution_count": null,
   "id": "c4f94435-6c78-4cf0-9628-d270957d07fa",
   "metadata": {
    "jupyter": {
     "source_hidden": true
    },
    "tags": []
   },
   "outputs": [],
   "source": [
    "Null = 'People over 40 are NOT more likely to die in a motorcycle accident.'\n",
    "Alternate = 'People over 40 are more likely to die in a motorcycle accident.'\n",
    "\n",
    "older = train[train.age > 40].deceased\n",
    "younger = train.deceased.mean()\n",
    "test_results = stats.ttest_1samp(older, younger)\n",
    "\n",
    "print(f'chi^2 = {chi2:.4f}')\n",
    "print(f'p     = {p:.4f}')\n",
    "\n",
    "print('\\n')\n",
    "if p < alpha:\n",
    "    print(f'We reject the null and accept the alternate: {Alternate}')\n",
    "else:\n",
    "    print(f'We fail to reject the null and accept the null: {Null}')"
   ]
  },
  {
   "cell_type": "markdown",
   "id": "fc871665-7903-43ab-8603-36dedf6ef323",
   "metadata": {
    "jupyter": {
     "source_hidden": true
    },
    "tags": []
   },
   "source": [
    "2. Rider with a passenger who is more likely to die in a motorcycle accident; passenger or driver?(ttest 2samp)\n",
    "    - Null: Passengers are more likely to die in a motorcycle accident.\n",
    "    - Alternate: Driver are more likely to die in a motorcycle accident."
   ]
  },
  {
   "cell_type": "code",
   "execution_count": null,
   "id": "a424d76a-28b0-468e-bb76-3a6d87df0f71",
   "metadata": {
    "jupyter": {
     "source_hidden": true
    },
    "tags": []
   },
   "outputs": [],
   "source": [
    "Null = 'Passengers are more likely to die in a motorcycle accident.'\n",
    "Alternate = 'Drivers are more likely to die in a motorcycle accident.'\n",
    "\n",
    "driver = train[train['driver'] == 1]\n",
    "passenger = train[train['driver'] == 0]\n",
    "test_results = stats.ttest_ind(driver.deceased, passenger.deceased)\n",
    "\n",
    "print(f'chi^2 = {chi2:.4f}')\n",
    "print(f'p     = {p:.4f}')\n",
    "\n",
    "print('\\n')\n",
    "if p < alpha:\n",
    "    print(f'We reject the null and accept the alternate: {Alternate}')\n",
    "else:\n",
    "    print(f'We fail to reject the null and accept the null: {Null}')"
   ]
  },
  {
   "cell_type": "markdown",
   "id": "6d67d8f9-4171-4f09-a575-6059bc7d698f",
   "metadata": {
    "jupyter": {
     "source_hidden": true
    },
    "tags": []
   },
   "source": [
    "##### Key Takeaway\n",
    "1. Riders not wearing a helmet are likely to survive a motorcycle accident.\n",
    "    - This tells me motorcycle accidents may not be severe enough to cause a fatal casualty. Good news, I guess, for riders - atleast for those in Texas!\n",
    "3. Riders older than 40 are more likely to die in a motorcycle accident. \n",
    "    - Intersting my initial thoughts would be younger riders would be invovlved in more fatal causualties with their inexperience.\n",
    "    - However; for older riders, this could mean several things: too comfortable, over confident, less reactive, and no recent safety training/riderskills.\n",
    "4. Drivers are more then likely to die in when riding with a passenger.\n"
   ]
  },
  {
   "cell_type": "markdown",
   "id": "85024e50-7c06-4877-94c8-3a96df15e8c9",
   "metadata": {
    "jupyter": {
     "source_hidden": true
    },
    "tags": []
   },
   "source": [
    "### Multivariate"
   ]
  },
  {
   "cell_type": "code",
   "execution_count": null,
   "id": "cfb94978-22ef-4d16-8a1a-a75c3ae806b3",
   "metadata": {
    "jupyter": {
     "source_hidden": true
    },
    "tags": []
   },
   "outputs": [],
   "source": [
    "explore.explore_multivariate(train, 'deceased', cat_vars, quant_vars)"
   ]
  },
  {
   "cell_type": "markdown",
   "id": "894fc147-d0f3-47e8-bcc1-7c50818c7524",
   "metadata": {
    "jupyter": {
     "source_hidden": true
    },
    "tags": []
   },
   "source": [
    "##### Key Takeaway\n",
    "1. Violin plot confirms age is a factor in those riders who get in more accidents that conclude in injuy or death.\n",
    "2. Although you are likely to survive when not wearing a helmet the violin plot show riders 40 yrs. and older who do not wear a helment result in a fatal casualty.\n",
    "3. Seems more older females die in accidents over 40. Where males make up a larger portion of all rider ages.\n",
    "4. Boxplot shows a slightly higher mortality average in motorcycle accidents."
   ]
  },
  {
   "cell_type": "markdown",
   "id": "b20341ff-8153-4b9b-bd0c-45b74115f4e0",
   "metadata": {
    "jupyter": {
     "source_hidden": true
    },
    "tags": []
   },
   "source": [
    "## Train, Validate, Test"
   ]
  },
  {
   "cell_type": "code",
   "execution_count": null,
   "id": "2efd766d-0958-4c6e-b28e-24b3f6c96efe",
   "metadata": {
    "jupyter": {
     "source_hidden": true
    },
    "tags": []
   },
   "outputs": [],
   "source": [
    "X_train = train[['driver', 'helmet', 'age']]\n",
    "y_train = train.deceased\n",
    "X_validate = validate[['driver', 'helmet', 'age']]\n",
    "y_validate = validate.deceased\n",
    "X_test = test[['driver', 'helmet', 'age']]\n",
    "y_test = test.deceased"
   ]
  },
  {
   "cell_type": "code",
   "execution_count": null,
   "id": "750aa183-39a5-41d0-bf82-f79f23e50c52",
   "metadata": {
    "jupyter": {
     "source_hidden": true
    },
    "tags": []
   },
   "outputs": [],
   "source": [
    "#print of x, y variables shape.\n",
    "print(X_train.shape,y_train.shape)\n",
    "print(X_validate.shape,y_validate.shape)\n",
    "print(X_test.shape,y_test.shape)"
   ]
  },
  {
   "cell_type": "markdown",
   "id": "c7210ea4-d87d-40ee-b8f0-7f81bf4fe201",
   "metadata": {
    "jupyter": {
     "source_hidden": true
    },
    "tags": []
   },
   "source": [
    "# Model"
   ]
  },
  {
   "cell_type": "markdown",
   "id": "51e02a86-b59f-4cc3-bfbe-86e617c1891d",
   "metadata": {
    "jupyter": {
     "source_hidden": true
    },
    "tags": []
   },
   "source": [
    "## Baseline"
   ]
  },
  {
   "cell_type": "code",
   "execution_count": null,
   "id": "0605d521-49b7-408a-8989-850c0fd84e5b",
   "metadata": {
    "jupyter": {
     "source_hidden": true
    },
    "tags": []
   },
   "outputs": [],
   "source": [
    "baseline = y_train.mode()\n",
    "matches_baseline_prediction = y_train == 0\n",
    "baseline_accuracy = matches_baseline_prediction.mean()\n",
    "print(f\"Baseline accuracy: {round(baseline_accuracy, 2)}\")"
   ]
  },
  {
   "cell_type": "code",
   "execution_count": null,
   "id": "f74b45bd-81b7-4ba0-88c8-44c5d6626597",
   "metadata": {
    "jupyter": {
     "source_hidden": true
    },
    "tags": []
   },
   "outputs": [],
   "source": [
    "from sklearn.tree import DecisionTreeClassifier\n",
    "from sklearn.metrics import classification_report\n",
    "from sklearn.metrics import confusion_matrix\n",
    "from sklearn.ensemble import RandomForestClassifier\n",
    "from sklearn.neighbors import KNeighborsClassifier\n",
    "from sklearn.linear_model import LogisticRegression"
   ]
  },
  {
   "cell_type": "code",
   "execution_count": null,
   "id": "35c35bc6-2a1b-43b7-a71a-163915d66463",
   "metadata": {
    "jupyter": {
     "source_hidden": true
    },
    "tags": []
   },
   "outputs": [],
   "source": [
    "#prediction, accuracy and class report evaluation function used for the above functions\n",
    "def get_metrics_bin(clf, X, y):\n",
    "    '''\n",
    "    get_metrics_bin will take in a sklearn classifier model, an X and a y variable and utilize\n",
    "    the model to make a prediction and then gather accuracy, class report evaluations\n",
    "    Credit to @madeleine-capper\n",
    "    return:  a classification report as a pandas DataFrame\n",
    "    '''\n",
    "    y_pred = clf.predict(X)\n",
    "    accuracy = clf.score(X, y)\n",
    "    conf = confusion_matrix(y, y_pred)\n",
    "    class_report = pd.DataFrame(classification_report(y, y_pred, output_dict=True)).T\n",
    "    tpr = conf[1][1] / conf[1].sum()\n",
    "    fpr = conf[0][1] / conf[0].sum()\n",
    "    tnr = conf[0][0] / conf[0].sum()\n",
    "    fnr = conf[1][0] / conf[1].sum()\n",
    "    print(f'''\n",
    "    The accuracy for our model is {accuracy:.4}\n",
    "    The True Positive Rate is {tpr:.3}, The False Positive Rate is {fpr:.3},\n",
    "    The True Negative Rate is {tnr:.3}, and the False Negative Rate is {fnr:.3}\n",
    "    ''')\n",
    "    return class_report "
   ]
  },
  {
   "cell_type": "code",
   "execution_count": null,
   "id": "ff8b2183-428b-49ad-9afb-a9dd73aac3c6",
   "metadata": {
    "jupyter": {
     "source_hidden": true
    },
    "tags": []
   },
   "outputs": [],
   "source": [
    "### Decision Tree\n",
    "#Create the model\n",
    "dt = DecisionTreeClassifier(max_depth=3, random_state=123)\n",
    "#Fit the model\n",
    "dt.fit(X_train, y_train)\n",
    "#Use the model\n",
    "dt.predict(X_train)\n",
    "#prediction, accuracy, & class report evaluations\n",
    "get_metrics_bin(dt, X_train, y_train)"
   ]
  },
  {
   "cell_type": "code",
   "execution_count": null,
   "id": "974c3e9f-af5f-42cd-97fe-7d7bcb2be53b",
   "metadata": {
    "jupyter": {
     "source_hidden": true
    },
    "tags": []
   },
   "outputs": [],
   "source": [
    "get_metrics_bin(dt, X_validate, y_validate)"
   ]
  },
  {
   "cell_type": "code",
   "execution_count": null,
   "id": "9ae929c8-d042-47a1-9504-27a1a0184dd5",
   "metadata": {
    "jupyter": {
     "source_hidden": true
    },
    "tags": []
   },
   "outputs": [],
   "source": [
    "get_metrics_bin(dt, X_test, y_test)"
   ]
  },
  {
   "cell_type": "markdown",
   "id": "a015516a-e095-409e-8f93-ca81f581be4f",
   "metadata": {
    "jupyter": {
     "source_hidden": true
    },
    "tags": []
   },
   "source": [
    "##### Key Takeaways\n",
    "1. Decission Tree performed the best out of the models tested.\n",
    "2. Both validate and test data sets performed slightly better then the baseline"
   ]
  },
  {
   "cell_type": "code",
   "execution_count": null,
   "id": "1953b2d2-2bd6-4878-a921-4f295f3860d7",
   "metadata": {
    "jupyter": {
     "source_hidden": true
    },
    "tags": []
   },
   "outputs": [],
   "source": [
    "df.info()"
   ]
  },
  {
   "cell_type": "code",
   "execution_count": 4,
   "id": "3b7d9b6d-42b2-42b9-b0b9-d292dd663651",
   "metadata": {
    "tags": []
   },
   "outputs": [
    {
     "name": "stdout",
     "output_type": "stream",
     "text": [
      "<class 'pandas.core.frame.DataFrame'>\n",
      "DatetimeIndex: 8293 entries, 2011-01-01 22:30:00 to 2021-10-06 00:40:00\n",
      "Data columns (total 1 columns):\n",
      " #   Column    Non-Null Count  Dtype\n",
      "---  ------    --------------  -----\n",
      " 0   deceased  8293 non-null   int64\n",
      "dtypes: int64(1)\n",
      "memory usage: 129.6 KB\n"
     ]
    }
   ],
   "source": [
    "ts = df.drop(columns=['city', 'county', 'injured', 'day', 'latitude', 'longitude', 'age', 'driver', 'helmet', 'male'])\n",
    "ts.info()"
   ]
  },
  {
   "cell_type": "code",
   "execution_count": 5,
   "id": "5235bd0f-7518-4987-b87b-b25f47f16ff2",
   "metadata": {},
   "outputs": [],
   "source": [
    "#set split variables\n",
    "train_size = int(len(ts) * .5)\n",
    "validate_size = int(len(ts) * .3)\n",
    "test_size = int(len(ts) - train_size - validate_size)\n",
    "validate_end_index = train_size + validate_size\n",
    "\n",
    "# split into train, validation, test\n",
    "train = ts[: train_size]\n",
    "validate = ts[train_size : validate_end_index]\n",
    "test = ts[validate_end_index : ]"
   ]
  },
  {
   "cell_type": "code",
   "execution_count": null,
   "id": "12ceebf6-f496-4eb5-a675-152fb5d5782e",
   "metadata": {
    "jupyter": {
     "source_hidden": true
    },
    "tags": []
   },
   "outputs": [],
   "source": [
    "for col in train.columns:\n",
    "    plt.figure(figsize=(12,4))\n",
    "    plt.plot(train[col])\n",
    "    plt.plot(validate[col])\n",
    "    plt.plot(test[col])\n",
    "    plt.ylabel('Deceased')\n",
    "    plt.xlabel('Year')\n",
    "    plt.title('')\n",
    "    plt.show()\n",
    "    print('train dataset average temperature:', train.deceased.mean())\n"
   ]
  },
  {
   "cell_type": "code",
   "execution_count": null,
   "id": "3e7c0fd8-1ccf-4e51-ab14-13b56c7cfdca",
   "metadata": {
    "jupyter": {
     "source_hidden": true
    },
    "tags": []
   },
   "outputs": [],
   "source": [
    "y = train.deceased\n",
    "y.plot.hist()"
   ]
  },
  {
   "cell_type": "code",
   "execution_count": null,
   "id": "f72317b5-e349-4638-9079-eb81b82f32f9",
   "metadata": {
    "jupyter": {
     "source_hidden": true
    },
    "tags": []
   },
   "outputs": [],
   "source": [
    "ax = y.groupby(y.index.year).mean().plot.bar(width=.9, ec='black')\n",
    "plt.xticks(rotation=90)\n",
    "ax.set(title='Average Deceased by Year', xlabel='Year (train)', ylabel='Deceased')"
   ]
  },
  {
   "cell_type": "code",
   "execution_count": null,
   "id": "c192130e-a215-4615-8b07-7925f674695b",
   "metadata": {
    "jupyter": {
     "source_hidden": true
    },
    "tags": []
   },
   "outputs": [],
   "source": [
    "ax = y.groupby(y.index.month).mean().plot.bar(width=.9, ec='black')\n",
    "plt.xticks(rotation=0)\n",
    "ax.set(title='Average Temperature by Month', xlabel='Month (train)', ylabel='Deceased')"
   ]
  },
  {
   "cell_type": "code",
   "execution_count": null,
   "id": "f751bdc8-7199-4111-999e-517c4f652dba",
   "metadata": {
    "jupyter": {
     "source_hidden": true
    },
    "tags": []
   },
   "outputs": [],
   "source": [
    "y.resample('M').mean().plot( label='Montly')\n",
    "y.resample('Y').mean().plot(xlabel = 'Year (train)', ylabel = \"Yearly Death\", label='Yearly')\n",
    "plt.legend()"
   ]
  },
  {
   "cell_type": "code",
   "execution_count": null,
   "id": "474d0d39-6e46-4f7d-b9e0-9c61bde2d689",
   "metadata": {
    "jupyter": {
     "source_hidden": true
    },
    "tags": []
   },
   "outputs": [],
   "source": [
    "y.resample('Y').mean().diff().plot(label='Average year-to-year deaths')\n",
    "y.resample('M').mean().diff().plot(xlabel = 'Year (train)', ylabel = 'Deceased Change', label='Average month-to-month change in deaths')\n",
    "plt.legend()"
   ]
  },
  {
   "cell_type": "code",
   "execution_count": null,
   "id": "0368a2db-0587-4ad6-b571-57dc45d3ebb9",
   "metadata": {
    "jupyter": {
     "source_hidden": true
    },
    "tags": []
   },
   "outputs": [],
   "source": [
    "y = train.deceased.resample('M').mean()\n",
    "\n",
    "result = sm.tsa.seasonal_decompose(y)\n",
    "decomposition = pd.DataFrame({\n",
    "    'y': result.observed,\n",
    "    'trend': result.trend,\n",
    "    'seasonal': result.seasonal,\n",
    "    'resid': result.resid,\n",
    "})\n",
    "decomposition.head()"
   ]
  },
  {
   "cell_type": "code",
   "execution_count": null,
   "id": "711b0ceb-3cee-4209-ba00-26f42cbda7f0",
   "metadata": {
    "jupyter": {
     "source_hidden": true
    },
    "tags": []
   },
   "outputs": [],
   "source": [
    "decomposition.iloc[:, 1:].plot(xlabel='Year', ylabel = 'Deceased')"
   ]
  },
  {
   "cell_type": "code",
   "execution_count": null,
   "id": "9f91ed0e-5338-4274-9098-bb250fc35490",
   "metadata": {
    "jupyter": {
     "source_hidden": true
    },
    "tags": []
   },
   "outputs": [],
   "source": [
    "\n",
    "result.plot()"
   ]
  },
  {
   "cell_type": "code",
   "execution_count": null,
   "id": "8d134f6e-9a3f-405f-9dea-31dd24badaaa",
   "metadata": {
    "jupyter": {
     "source_hidden": true
    },
    "tags": []
   },
   "outputs": [],
   "source": [
    "train = train.resample('M').mean()\n",
    "# create a categorical feature\n",
    "train['avg_bin'] = pd.qcut(train.deceased, 4, labels=['1', '2', '3', '4'])\n",
    "train.groupby('avg_bin').mean()"
   ]
  },
  {
   "cell_type": "code",
   "execution_count": null,
   "id": "a69bcd96-6f6a-424d-94ad-7a650d36bb21",
   "metadata": {
    "jupyter": {
     "source_hidden": true
    },
    "tags": []
   },
   "outputs": [],
   "source": [
    "#Remove the avgtemp_bin not to distort modeling\n",
    "del train['avg_bin']"
   ]
  },
  {
   "cell_type": "code",
   "execution_count": 10,
   "id": "dafb8b4a-8088-46f1-9370-13cc4c3e0838",
   "metadata": {
    "tags": []
   },
   "outputs": [
    {
     "data": {
      "text/plain": [
       "((4146, 1), (2487, 1), (1660, 1))"
      ]
     },
     "execution_count": 10,
     "metadata": {},
     "output_type": "execute_result"
    }
   ],
   "source": [
    "train.shape, validate.shape, test.shape"
   ]
  },
  {
   "cell_type": "code",
   "execution_count": 6,
   "id": "61d49954-bbdf-4d1c-a296-3f5220631be0",
   "metadata": {},
   "outputs": [],
   "source": [
    "#evaluation function to compute rmse.\n",
    "def evaluate(target_var):\n",
    "    rmse = round(sqrt(mean_squared_error(validate[target_var], yhat_df[target_var])), 0)\n",
    "    return rmse"
   ]
  },
  {
   "cell_type": "code",
   "execution_count": 7,
   "id": "79edc4f6-ab87-46d1-9247-a93fe1c03f4f",
   "metadata": {},
   "outputs": [],
   "source": [
    "#plot and evaluate \n",
    "def plot_and_eval(target_var):\n",
    "    plt.figure(figsize = (12,4))\n",
    "    plt.plot(train[target_var], label = 'Train', linewidth = 1)\n",
    "    plt.plot(validate[target_var], label = 'Validate', linewidth = 1)\n",
    "    plt.plot(yhat_df[target_var])\n",
    "    plt.title(target_var)\n",
    "    rmse = evaluate(target_var)\n",
    "    print(target_var, '-- RMSE: {:.0f}'.format(rmse))\n",
    "    plt.show()"
   ]
  },
  {
   "cell_type": "code",
   "execution_count": 8,
   "id": "989dab2e-612c-4458-8c99-2b1f157e6d51",
   "metadata": {},
   "outputs": [],
   "source": [
    "#create the empty dataframe\n",
    "eval_df = pd.DataFrame(columns=['model_type', 'target_var', 'rmse'])\n",
    "\n",
    "#function to store rmse for comparison purposes\n",
    "def append_eval_df(model_type, target_var):\n",
    "    rmse = evaluate(target_var)\n",
    "    d = {'model_type': [model_type], 'target_var': [target_var], 'rmse': [rmse]}\n",
    "    d = pd.DataFrame(d)\n",
    "    return eval_df.append(d, ignore_index = True)"
   ]
  },
  {
   "cell_type": "code",
   "execution_count": 9,
   "id": "ffdbc9be-d2c1-428b-b9b0-0b5c8bce3b0c",
   "metadata": {},
   "outputs": [
    {
     "data": {
      "text/html": [
       "<div>\n",
       "<style scoped>\n",
       "    .dataframe tbody tr th:only-of-type {\n",
       "        vertical-align: middle;\n",
       "    }\n",
       "\n",
       "    .dataframe tbody tr th {\n",
       "        vertical-align: top;\n",
       "    }\n",
       "\n",
       "    .dataframe thead th {\n",
       "        text-align: right;\n",
       "    }\n",
       "</style>\n",
       "<table border=\"1\" class=\"dataframe\">\n",
       "  <thead>\n",
       "    <tr style=\"text-align: right;\">\n",
       "      <th></th>\n",
       "      <th>model_type</th>\n",
       "      <th>target_var</th>\n",
       "      <th>rmse</th>\n",
       "    </tr>\n",
       "  </thead>\n",
       "  <tbody>\n",
       "  </tbody>\n",
       "</table>\n",
       "</div>"
      ],
      "text/plain": [
       "Empty DataFrame\n",
       "Columns: [model_type, target_var, rmse]\n",
       "Index: []"
      ]
     },
     "execution_count": 9,
     "metadata": {},
     "output_type": "execute_result"
    }
   ],
   "source": [
    "eval_df"
   ]
  },
  {
   "cell_type": "code",
   "execution_count": 11,
   "id": "966060a7-3f65-4383-8f7e-faf61781ecb3",
   "metadata": {
    "tags": []
   },
   "outputs": [
    {
     "data": {
      "text/html": [
       "<div>\n",
       "<style scoped>\n",
       "    .dataframe tbody tr th:only-of-type {\n",
       "        vertical-align: middle;\n",
       "    }\n",
       "\n",
       "    .dataframe tbody tr th {\n",
       "        vertical-align: top;\n",
       "    }\n",
       "\n",
       "    .dataframe thead th {\n",
       "        text-align: right;\n",
       "    }\n",
       "</style>\n",
       "<table border=\"1\" class=\"dataframe\">\n",
       "  <thead>\n",
       "    <tr style=\"text-align: right;\">\n",
       "      <th></th>\n",
       "      <th>deceased</th>\n",
       "    </tr>\n",
       "    <tr>\n",
       "      <th>crash_date</th>\n",
       "      <th></th>\n",
       "    </tr>\n",
       "  </thead>\n",
       "  <tbody>\n",
       "    <tr>\n",
       "      <th>2015-09-14 07:48:00</th>\n",
       "      <td>0</td>\n",
       "    </tr>\n",
       "    <tr>\n",
       "      <th>2015-09-14 12:35:00</th>\n",
       "      <td>0</td>\n",
       "    </tr>\n",
       "  </tbody>\n",
       "</table>\n",
       "</div>"
      ],
      "text/plain": [
       "                     deceased\n",
       "crash_date                   \n",
       "2015-09-14 07:48:00         0\n",
       "2015-09-14 12:35:00         0"
      ]
     },
     "execution_count": 11,
     "metadata": {},
     "output_type": "execute_result"
    }
   ],
   "source": [
    "#Last Observed\n",
    "\n",
    "avg = train['deceased'][-1:][0]\n",
    "\n",
    "yhat_df = pd.DataFrame({'deceased': [avg]}, index = validate.index)\n",
    "\n",
    "yhat_df.head(2)"
   ]
  },
  {
   "cell_type": "code",
   "execution_count": 58,
   "id": "6f0933a5-8173-42b0-8364-e8ac508d3771",
   "metadata": {},
   "outputs": [
    {
     "data": {
      "text/plain": [
       "644"
      ]
     },
     "execution_count": 58,
     "metadata": {},
     "output_type": "execute_result"
    }
   ],
   "source": [
    "yhat_df.shape[0]"
   ]
  },
  {
   "cell_type": "code",
   "execution_count": 60,
   "id": "84b8b68e-9fbd-4650-82fe-10948369599a",
   "metadata": {},
   "outputs": [
    {
     "data": {
      "text/plain": [
       "(3804, 1)"
      ]
     },
     "execution_count": 60,
     "metadata": {},
     "output_type": "execute_result"
    }
   ],
   "source": [
    "train.shape"
   ]
  },
  {
   "cell_type": "code",
   "execution_count": 12,
   "id": "1e4e3198-2d4e-48d3-9419-a7fdb8ab00ac",
   "metadata": {
    "tags": []
   },
   "outputs": [
    {
     "name": "stdout",
     "output_type": "stream",
     "text": [
      "deceased -- RMSE: 0\n"
     ]
    },
    {
     "data": {
      "image/png": "[encoded data removed]",
      "text/plain": [
       "<Figure size 864x288 with 1 Axes>"
      ]
     },
     "metadata": {
      "needs_background": "light"
     },
     "output_type": "display_data"
    }
   ],
   "source": [
    "#Plot Actual vs. Predicted Values\n",
    "for col in train.columns:\n",
    "    plot_and_eval(col)"
   ]
  },
  {
   "cell_type": "code",
   "execution_count": 13,
   "id": "7920c604-a012-4e5d-853e-59625ac6300a",
   "metadata": {
    "tags": []
   },
   "outputs": [],
   "source": [
    "#Evaluate\n",
    "for col in train.columns:\n",
    "    eval_df = append_eval_df(model_type = 'Last Observed Value', target_var = col)"
   ]
  },
  {
   "cell_type": "code",
   "execution_count": 14,
   "id": "03e4e3d7-50e3-4ad9-a365-6e0e55ffdfa6",
   "metadata": {
    "tags": []
   },
   "outputs": [
    {
     "data": {
      "text/html": [
       "<div>\n",
       "<style scoped>\n",
       "    .dataframe tbody tr th:only-of-type {\n",
       "        vertical-align: middle;\n",
       "    }\n",
       "\n",
       "    .dataframe tbody tr th {\n",
       "        vertical-align: top;\n",
       "    }\n",
       "\n",
       "    .dataframe thead th {\n",
       "        text-align: right;\n",
       "    }\n",
       "</style>\n",
       "<table border=\"1\" class=\"dataframe\">\n",
       "  <thead>\n",
       "    <tr style=\"text-align: right;\">\n",
       "      <th></th>\n",
       "      <th>model_type</th>\n",
       "      <th>target_var</th>\n",
       "      <th>rmse</th>\n",
       "    </tr>\n",
       "  </thead>\n",
       "  <tbody>\n",
       "    <tr>\n",
       "      <th>0</th>\n",
       "      <td>Last Observed Value</td>\n",
       "      <td>deceased</td>\n",
       "      <td>0.0</td>\n",
       "    </tr>\n",
       "  </tbody>\n",
       "</table>\n",
       "</div>"
      ],
      "text/plain": [
       "            model_type target_var  rmse\n",
       "0  Last Observed Value   deceased   0.0"
      ]
     },
     "execution_count": 14,
     "metadata": {},
     "output_type": "execute_result"
    }
   ],
   "source": [
    "eval_df"
   ]
  },
  {
   "cell_type": "code",
   "execution_count": 15,
   "id": "659ccc29-2539-436f-8215-804150a9e0ae",
   "metadata": {
    "tags": []
   },
   "outputs": [],
   "source": [
    "#Simple Average\n",
    "#Make predictions\n",
    "avg = round(train['deceased'].mean(),2)\n",
    "\n",
    "def make_predictions():\n",
    "    yhat_df = pd.DataFrame({'deceased': [avg]}, index = validate.index)\n",
    "    return yhat_df\n",
    "\n",
    "yhat_df = make_predictions()\n"
   ]
  },
  {
   "cell_type": "code",
   "execution_count": null,
   "id": "df831ebb-870d-4ca1-bc3f-1fdb8a12a3cb",
   "metadata": {
    "tags": []
   },
   "outputs": [],
   "source": [
    "yhat_df.head(2)"
   ]
  },
  {
   "cell_type": "code",
   "execution_count": 16,
   "id": "b1b69549-5938-4778-9205-4c219af3f7eb",
   "metadata": {
    "tags": []
   },
   "outputs": [
    {
     "name": "stdout",
     "output_type": "stream",
     "text": [
      "deceased -- RMSE: 0\n"
     ]
    },
    {
     "data": {
      "image/png": "[encoded data removed]",
      "text/plain": [
       "<Figure size 864x288 with 1 Axes>"
      ]
     },
     "metadata": {
      "needs_background": "light"
     },
     "output_type": "display_data"
    }
   ],
   "source": [
    "\n",
    "#Plot Actual vs. Predicted Values\n",
    "for col in train.columns:\n",
    "    plot_and_eval(col)"
   ]
  },
  {
   "cell_type": "code",
   "execution_count": 17,
   "id": "d3dce6e0-5639-4124-900c-936194f83862",
   "metadata": {
    "tags": []
   },
   "outputs": [],
   "source": [
    "#Evaluate\n",
    "for col in train.columns:\n",
    "    eval_df = append_eval_df(model_type = 'Simple Average', target_var = col)"
   ]
  },
  {
   "cell_type": "code",
   "execution_count": 18,
   "id": "bb3ef117-3253-4626-86b8-eecd704b5c96",
   "metadata": {
    "tags": []
   },
   "outputs": [
    {
     "data": {
      "text/html": [
       "<div>\n",
       "<style scoped>\n",
       "    .dataframe tbody tr th:only-of-type {\n",
       "        vertical-align: middle;\n",
       "    }\n",
       "\n",
       "    .dataframe tbody tr th {\n",
       "        vertical-align: top;\n",
       "    }\n",
       "\n",
       "    .dataframe thead th {\n",
       "        text-align: right;\n",
       "    }\n",
       "</style>\n",
       "<table border=\"1\" class=\"dataframe\">\n",
       "  <thead>\n",
       "    <tr style=\"text-align: right;\">\n",
       "      <th></th>\n",
       "      <th>model_type</th>\n",
       "      <th>target_var</th>\n",
       "      <th>rmse</th>\n",
       "    </tr>\n",
       "  </thead>\n",
       "  <tbody>\n",
       "    <tr>\n",
       "      <th>0</th>\n",
       "      <td>Last Observed Value</td>\n",
       "      <td>deceased</td>\n",
       "      <td>0.0</td>\n",
       "    </tr>\n",
       "    <tr>\n",
       "      <th>1</th>\n",
       "      <td>Simple Average</td>\n",
       "      <td>deceased</td>\n",
       "      <td>0.0</td>\n",
       "    </tr>\n",
       "  </tbody>\n",
       "</table>\n",
       "</div>"
      ],
      "text/plain": [
       "            model_type target_var  rmse\n",
       "0  Last Observed Value   deceased   0.0\n",
       "1       Simple Average   deceased   0.0"
      ]
     },
     "execution_count": 18,
     "metadata": {},
     "output_type": "execute_result"
    }
   ],
   "source": [
    "eval_df"
   ]
  },
  {
   "cell_type": "code",
   "execution_count": null,
   "id": "f6913a31-1119-4f62-a135-de84d2fd7980",
   "metadata": {
    "jupyter": {
     "source_hidden": true
    },
    "tags": []
   },
   "outputs": [],
   "source": [
    "#Moving Average"
   ]
  },
  {
   "cell_type": "code",
   "execution_count": null,
   "id": "da350ca1-3bac-44e7-98a2-8ee35fa85fc3",
   "metadata": {
    "jupyter": {
     "source_hidden": true
    },
    "tags": []
   },
   "outputs": [],
   "source": [
    "#Make Predictions\n",
    "# compute a 30 day rolling average, \n",
    "# use the most recent/last 30 day period value to predict forward. \n",
    "\n",
    "period = 3\n",
    "\n",
    "avg = round(train['deceased'].rolling(period).mean().iloc[-1], 2)\n",
    "\n",
    "yhat_df = make_predictions()\n",
    "yhat_df.head(3)\n"
   ]
  },
  {
   "cell_type": "code",
   "execution_count": null,
   "id": "87f8bc4c-cdff-482e-9db3-0809fc2b869a",
   "metadata": {
    "jupyter": {
     "source_hidden": true
    },
    "tags": []
   },
   "outputs": [],
   "source": [
    "#Plot Actual vs. Predicted Values\n",
    "for col in train.columns:\n",
    "    plot_and_eval(col)"
   ]
  },
  {
   "cell_type": "code",
   "execution_count": null,
   "id": "1cbc571e-711d-4bfa-9ef0-371dce1869c7",
   "metadata": {
    "jupyter": {
     "source_hidden": true
    },
    "tags": []
   },
   "outputs": [],
   "source": [
    "for col in train.columns:\n",
    "    eval_df = append_eval_df(model_type = 'Moving Average', target_var = col)"
   ]
  },
  {
   "cell_type": "code",
   "execution_count": null,
   "id": "d0230ab8-82f2-4887-8b0f-04ed36a6f3d3",
   "metadata": {
    "jupyter": {
     "source_hidden": true
    },
    "tags": []
   },
   "outputs": [],
   "source": [
    "eval_df"
   ]
  },
  {
   "cell_type": "markdown",
   "id": "46ad95a8-4bda-447d-b079-1b7e2d85e61b",
   "metadata": {},
   "source": [
    "#### Previous Cycle"
   ]
  },
  {
   "cell_type": "code",
   "execution_count": 46,
   "id": "3f5970c8-45fb-4391-93e2-10670c3b9db7",
   "metadata": {
    "tags": []
   },
   "outputs": [],
   "source": [
    "#Re-split data\n",
    "train = ts['2014':'2018']\n",
    "validate = ts['2019']\n",
    "test = ts['2020']"
   ]
  },
  {
   "cell_type": "code",
   "execution_count": 72,
   "id": "479ed155-cb76-4539-b0e2-a4fd527aebb8",
   "metadata": {
    "tags": []
   },
   "outputs": [
    {
     "data": {
      "text/plain": [
       "((3804, 1), (646, 1), (623, 1))"
      ]
     },
     "execution_count": 72,
     "metadata": {},
     "output_type": "execute_result"
    }
   ],
   "source": [
    "train.shape, validate.shape, test.shape"
   ]
  },
  {
   "cell_type": "code",
   "execution_count": 76,
   "id": "a2fae782-f93e-44e8-a5bb-9344c6b9dc25",
   "metadata": {},
   "outputs": [
    {
     "data": {
      "text/plain": [
       "(644, 1)"
      ]
     },
     "execution_count": 76,
     "metadata": {},
     "output_type": "execute_result"
    }
   ],
   "source": [
    "train['2018'].shape"
   ]
  },
  {
   "cell_type": "code",
   "execution_count": 70,
   "id": "a2fd71f1-8ee3-438b-bf0f-a434eb389504",
   "metadata": {
    "tags": []
   },
   "outputs": [],
   "source": [
    "#Make Predictions\n",
    "yhat_df = ts['2018'] + train.diff(365).mean()"
   ]
  },
  {
   "cell_type": "code",
   "execution_count": 71,
   "id": "fe8b94ef-caf6-42f8-bb29-ee3034ff6676",
   "metadata": {
    "tags": []
   },
   "outputs": [
    {
     "data": {
      "text/plain": [
       "(644, 1)"
      ]
     },
     "execution_count": 71,
     "metadata": {},
     "output_type": "execute_result"
    }
   ],
   "source": [
    "yhat_df.shape"
   ]
  },
  {
   "cell_type": "code",
   "execution_count": null,
   "id": "ebf51aa7-c8da-4b9f-83fc-b5494b68073e",
   "metadata": {
    "tags": []
   },
   "outputs": [],
   "source": []
  },
  {
   "cell_type": "code",
   "execution_count": 63,
   "id": "95499a7b-5462-4091-b78b-4dea605ba83e",
   "metadata": {
    "tags": []
   },
   "outputs": [
    {
     "data": {
      "text/html": [
       "<div>\n",
       "<style scoped>\n",
       "    .dataframe tbody tr th:only-of-type {\n",
       "        vertical-align: middle;\n",
       "    }\n",
       "\n",
       "    .dataframe tbody tr th {\n",
       "        vertical-align: top;\n",
       "    }\n",
       "\n",
       "    .dataframe thead th {\n",
       "        text-align: right;\n",
       "    }\n",
       "</style>\n",
       "<table border=\"1\" class=\"dataframe\">\n",
       "  <thead>\n",
       "    <tr style=\"text-align: right;\">\n",
       "      <th></th>\n",
       "      <th>deceased</th>\n",
       "    </tr>\n",
       "    <tr>\n",
       "      <th>crash_date</th>\n",
       "      <th></th>\n",
       "    </tr>\n",
       "  </thead>\n",
       "  <tbody>\n",
       "    <tr>\n",
       "      <th>2018-01-03 18:04:00</th>\n",
       "      <td>0.001454</td>\n",
       "    </tr>\n",
       "    <tr>\n",
       "      <th>2019-01-05 15:10:00</th>\n",
       "      <td>0.000000</td>\n",
       "    </tr>\n",
       "  </tbody>\n",
       "</table>\n",
       "</div>"
      ],
      "text/plain": [
       "                     deceased\n",
       "crash_date                   \n",
       "2018-01-03 18:04:00  0.001454\n",
       "2019-01-05 15:10:00  0.000000"
      ]
     },
     "execution_count": 63,
     "metadata": {},
     "output_type": "execute_result"
    }
   ],
   "source": [
    "pd.concat([yhat_df.head(1), validate.head(1)])"
   ]
  },
  {
   "cell_type": "code",
   "execution_count": 64,
   "id": "822226cc-abbe-4d7e-95e0-e57496f0afd9",
   "metadata": {
    "tags": []
   },
   "outputs": [
    {
     "ename": "ValueError",
     "evalue": "Found input variables with inconsistent numbers of samples: [646, 644]",
     "output_type": "error",
     "traceback": [
      "\u001b[0;31m---------------------------------------------------------------------------\u001b[0m",
      "\u001b[0;31mValueError\u001b[0m                                Traceback (most recent call last)",
      "\u001b[0;32m<ipython-input-64-eb6410d5d804>\u001b[0m in \u001b[0;36m<module>\u001b[0;34m\u001b[0m\n\u001b[1;32m      1\u001b[0m \u001b[0;31m#Plot and Evaluate\u001b[0m\u001b[0;34m\u001b[0m\u001b[0;34m\u001b[0m\u001b[0;34m\u001b[0m\u001b[0m\n\u001b[1;32m      2\u001b[0m \u001b[0;32mfor\u001b[0m \u001b[0mcol\u001b[0m \u001b[0;32min\u001b[0m \u001b[0mtrain\u001b[0m\u001b[0;34m.\u001b[0m\u001b[0mcolumns\u001b[0m\u001b[0;34m:\u001b[0m\u001b[0;34m\u001b[0m\u001b[0;34m\u001b[0m\u001b[0m\n\u001b[0;32m----> 3\u001b[0;31m     \u001b[0mplot_and_eval\u001b[0m\u001b[0;34m(\u001b[0m\u001b[0mtarget_var\u001b[0m \u001b[0;34m=\u001b[0m \u001b[0mcol\u001b[0m\u001b[0;34m)\u001b[0m\u001b[0;34m\u001b[0m\u001b[0;34m\u001b[0m\u001b[0m\n\u001b[0m\u001b[1;32m      4\u001b[0m     \u001b[0meval_df\u001b[0m \u001b[0;34m=\u001b[0m \u001b[0mappend_eval_df\u001b[0m\u001b[0;34m(\u001b[0m\u001b[0mmodel_type\u001b[0m \u001b[0;34m=\u001b[0m \u001b[0;34m'Previous Cycle'\u001b[0m\u001b[0;34m,\u001b[0m \u001b[0mtarget_var\u001b[0m \u001b[0;34m=\u001b[0m \u001b[0mcol\u001b[0m\u001b[0;34m)\u001b[0m\u001b[0;34m\u001b[0m\u001b[0;34m\u001b[0m\u001b[0m\n",
      "\u001b[0;32m<ipython-input-7-e9bfc30b8af7>\u001b[0m in \u001b[0;36mplot_and_eval\u001b[0;34m(target_var)\u001b[0m\n\u001b[1;32m      6\u001b[0m     \u001b[0mplt\u001b[0m\u001b[0;34m.\u001b[0m\u001b[0mplot\u001b[0m\u001b[0;34m(\u001b[0m\u001b[0myhat_df\u001b[0m\u001b[0;34m[\u001b[0m\u001b[0mtarget_var\u001b[0m\u001b[0;34m]\u001b[0m\u001b[0;34m)\u001b[0m\u001b[0;34m\u001b[0m\u001b[0;34m\u001b[0m\u001b[0m\n\u001b[1;32m      7\u001b[0m     \u001b[0mplt\u001b[0m\u001b[0;34m.\u001b[0m\u001b[0mtitle\u001b[0m\u001b[0;34m(\u001b[0m\u001b[0mtarget_var\u001b[0m\u001b[0;34m)\u001b[0m\u001b[0;34m\u001b[0m\u001b[0;34m\u001b[0m\u001b[0m\n\u001b[0;32m----> 8\u001b[0;31m     \u001b[0mrmse\u001b[0m \u001b[0;34m=\u001b[0m \u001b[0mevaluate\u001b[0m\u001b[0;34m(\u001b[0m\u001b[0mtarget_var\u001b[0m\u001b[0;34m)\u001b[0m\u001b[0;34m\u001b[0m\u001b[0;34m\u001b[0m\u001b[0m\n\u001b[0m\u001b[1;32m      9\u001b[0m     \u001b[0mprint\u001b[0m\u001b[0;34m(\u001b[0m\u001b[0mtarget_var\u001b[0m\u001b[0;34m,\u001b[0m \u001b[0;34m'-- RMSE: {:.0f}'\u001b[0m\u001b[0;34m.\u001b[0m\u001b[0mformat\u001b[0m\u001b[0;34m(\u001b[0m\u001b[0mrmse\u001b[0m\u001b[0;34m)\u001b[0m\u001b[0;34m)\u001b[0m\u001b[0;34m\u001b[0m\u001b[0;34m\u001b[0m\u001b[0m\n\u001b[1;32m     10\u001b[0m     \u001b[0mplt\u001b[0m\u001b[0;34m.\u001b[0m\u001b[0mshow\u001b[0m\u001b[0;34m(\u001b[0m\u001b[0;34m)\u001b[0m\u001b[0;34m\u001b[0m\u001b[0;34m\u001b[0m\u001b[0m\n",
      "\u001b[0;32m<ipython-input-6-1973a9289c91>\u001b[0m in \u001b[0;36mevaluate\u001b[0;34m(target_var)\u001b[0m\n\u001b[1;32m      1\u001b[0m \u001b[0;31m#evaluation function to compute rmse.\u001b[0m\u001b[0;34m\u001b[0m\u001b[0;34m\u001b[0m\u001b[0;34m\u001b[0m\u001b[0m\n\u001b[1;32m      2\u001b[0m \u001b[0;32mdef\u001b[0m \u001b[0mevaluate\u001b[0m\u001b[0;34m(\u001b[0m\u001b[0mtarget_var\u001b[0m\u001b[0;34m)\u001b[0m\u001b[0;34m:\u001b[0m\u001b[0;34m\u001b[0m\u001b[0;34m\u001b[0m\u001b[0m\n\u001b[0;32m----> 3\u001b[0;31m     \u001b[0mrmse\u001b[0m \u001b[0;34m=\u001b[0m \u001b[0mround\u001b[0m\u001b[0;34m(\u001b[0m\u001b[0msqrt\u001b[0m\u001b[0;34m(\u001b[0m\u001b[0mmean_squared_error\u001b[0m\u001b[0;34m(\u001b[0m\u001b[0mvalidate\u001b[0m\u001b[0;34m[\u001b[0m\u001b[0mtarget_var\u001b[0m\u001b[0;34m]\u001b[0m\u001b[0;34m,\u001b[0m \u001b[0myhat_df\u001b[0m\u001b[0;34m[\u001b[0m\u001b[0mtarget_var\u001b[0m\u001b[0;34m]\u001b[0m\u001b[0;34m)\u001b[0m\u001b[0;34m)\u001b[0m\u001b[0;34m,\u001b[0m \u001b[0;36m0\u001b[0m\u001b[0;34m)\u001b[0m\u001b[0;34m\u001b[0m\u001b[0;34m\u001b[0m\u001b[0m\n\u001b[0m\u001b[1;32m      4\u001b[0m     \u001b[0;32mreturn\u001b[0m \u001b[0mrmse\u001b[0m\u001b[0;34m\u001b[0m\u001b[0;34m\u001b[0m\u001b[0m\n",
      "\u001b[0;32m/usr/local/anaconda3/lib/python3.8/site-packages/sklearn/utils/validation.py\u001b[0m in \u001b[0;36minner_f\u001b[0;34m(*args, **kwargs)\u001b[0m\n\u001b[1;32m     61\u001b[0m             \u001b[0mextra_args\u001b[0m \u001b[0;34m=\u001b[0m \u001b[0mlen\u001b[0m\u001b[0;34m(\u001b[0m\u001b[0margs\u001b[0m\u001b[0;34m)\u001b[0m \u001b[0;34m-\u001b[0m \u001b[0mlen\u001b[0m\u001b[0;34m(\u001b[0m\u001b[0mall_args\u001b[0m\u001b[0;34m)\u001b[0m\u001b[0;34m\u001b[0m\u001b[0;34m\u001b[0m\u001b[0m\n\u001b[1;32m     62\u001b[0m             \u001b[0;32mif\u001b[0m \u001b[0mextra_args\u001b[0m \u001b[0;34m<=\u001b[0m \u001b[0;36m0\u001b[0m\u001b[0;34m:\u001b[0m\u001b[0;34m\u001b[0m\u001b[0;34m\u001b[0m\u001b[0m\n\u001b[0;32m---> 63\u001b[0;31m                 \u001b[0;32mreturn\u001b[0m \u001b[0mf\u001b[0m\u001b[0;34m(\u001b[0m\u001b[0;34m*\u001b[0m\u001b[0margs\u001b[0m\u001b[0;34m,\u001b[0m \u001b[0;34m**\u001b[0m\u001b[0mkwargs\u001b[0m\u001b[0;34m)\u001b[0m\u001b[0;34m\u001b[0m\u001b[0;34m\u001b[0m\u001b[0m\n\u001b[0m\u001b[1;32m     64\u001b[0m \u001b[0;34m\u001b[0m\u001b[0m\n\u001b[1;32m     65\u001b[0m             \u001b[0;31m# extra_args > 0\u001b[0m\u001b[0;34m\u001b[0m\u001b[0;34m\u001b[0m\u001b[0;34m\u001b[0m\u001b[0m\n",
      "\u001b[0;32m/usr/local/anaconda3/lib/python3.8/site-packages/sklearn/metrics/_regression.py\u001b[0m in \u001b[0;36mmean_squared_error\u001b[0;34m(y_true, y_pred, sample_weight, multioutput, squared)\u001b[0m\n\u001b[1;32m    333\u001b[0m     \u001b[0;36m0.825\u001b[0m\u001b[0;34m...\u001b[0m\u001b[0;34m\u001b[0m\u001b[0;34m\u001b[0m\u001b[0m\n\u001b[1;32m    334\u001b[0m     \"\"\"\n\u001b[0;32m--> 335\u001b[0;31m     y_type, y_true, y_pred, multioutput = _check_reg_targets(\n\u001b[0m\u001b[1;32m    336\u001b[0m         y_true, y_pred, multioutput)\n\u001b[1;32m    337\u001b[0m     \u001b[0mcheck_consistent_length\u001b[0m\u001b[0;34m(\u001b[0m\u001b[0my_true\u001b[0m\u001b[0;34m,\u001b[0m \u001b[0my_pred\u001b[0m\u001b[0;34m,\u001b[0m \u001b[0msample_weight\u001b[0m\u001b[0;34m)\u001b[0m\u001b[0;34m\u001b[0m\u001b[0;34m\u001b[0m\u001b[0m\n",
      "\u001b[0;32m/usr/local/anaconda3/lib/python3.8/site-packages/sklearn/metrics/_regression.py\u001b[0m in \u001b[0;36m_check_reg_targets\u001b[0;34m(y_true, y_pred, multioutput, dtype)\u001b[0m\n\u001b[1;32m     86\u001b[0m         \u001b[0mthe\u001b[0m \u001b[0mdtype\u001b[0m \u001b[0margument\u001b[0m \u001b[0mpassed\u001b[0m \u001b[0mto\u001b[0m \u001b[0mcheck_array\u001b[0m\u001b[0;34m.\u001b[0m\u001b[0;34m\u001b[0m\u001b[0;34m\u001b[0m\u001b[0m\n\u001b[1;32m     87\u001b[0m     \"\"\"\n\u001b[0;32m---> 88\u001b[0;31m     \u001b[0mcheck_consistent_length\u001b[0m\u001b[0;34m(\u001b[0m\u001b[0my_true\u001b[0m\u001b[0;34m,\u001b[0m \u001b[0my_pred\u001b[0m\u001b[0;34m)\u001b[0m\u001b[0;34m\u001b[0m\u001b[0;34m\u001b[0m\u001b[0m\n\u001b[0m\u001b[1;32m     89\u001b[0m     \u001b[0my_true\u001b[0m \u001b[0;34m=\u001b[0m \u001b[0mcheck_array\u001b[0m\u001b[0;34m(\u001b[0m\u001b[0my_true\u001b[0m\u001b[0;34m,\u001b[0m \u001b[0mensure_2d\u001b[0m\u001b[0;34m=\u001b[0m\u001b[0;32mFalse\u001b[0m\u001b[0;34m,\u001b[0m \u001b[0mdtype\u001b[0m\u001b[0;34m=\u001b[0m\u001b[0mdtype\u001b[0m\u001b[0;34m)\u001b[0m\u001b[0;34m\u001b[0m\u001b[0;34m\u001b[0m\u001b[0m\n\u001b[1;32m     90\u001b[0m     \u001b[0my_pred\u001b[0m \u001b[0;34m=\u001b[0m \u001b[0mcheck_array\u001b[0m\u001b[0;34m(\u001b[0m\u001b[0my_pred\u001b[0m\u001b[0;34m,\u001b[0m \u001b[0mensure_2d\u001b[0m\u001b[0;34m=\u001b[0m\u001b[0;32mFalse\u001b[0m\u001b[0;34m,\u001b[0m \u001b[0mdtype\u001b[0m\u001b[0;34m=\u001b[0m\u001b[0mdtype\u001b[0m\u001b[0;34m)\u001b[0m\u001b[0;34m\u001b[0m\u001b[0;34m\u001b[0m\u001b[0m\n",
      "\u001b[0;32m/usr/local/anaconda3/lib/python3.8/site-packages/sklearn/utils/validation.py\u001b[0m in \u001b[0;36mcheck_consistent_length\u001b[0;34m(*arrays)\u001b[0m\n\u001b[1;32m    260\u001b[0m     \u001b[0muniques\u001b[0m \u001b[0;34m=\u001b[0m \u001b[0mnp\u001b[0m\u001b[0;34m.\u001b[0m\u001b[0munique\u001b[0m\u001b[0;34m(\u001b[0m\u001b[0mlengths\u001b[0m\u001b[0;34m)\u001b[0m\u001b[0;34m\u001b[0m\u001b[0;34m\u001b[0m\u001b[0m\n\u001b[1;32m    261\u001b[0m     \u001b[0;32mif\u001b[0m \u001b[0mlen\u001b[0m\u001b[0;34m(\u001b[0m\u001b[0muniques\u001b[0m\u001b[0;34m)\u001b[0m \u001b[0;34m>\u001b[0m \u001b[0;36m1\u001b[0m\u001b[0;34m:\u001b[0m\u001b[0;34m\u001b[0m\u001b[0;34m\u001b[0m\u001b[0m\n\u001b[0;32m--> 262\u001b[0;31m         raise ValueError(\"Found input variables with inconsistent numbers of\"\n\u001b[0m\u001b[1;32m    263\u001b[0m                          \" samples: %r\" % [int(l) for l in lengths])\n\u001b[1;32m    264\u001b[0m \u001b[0;34m\u001b[0m\u001b[0m\n",
      "\u001b[0;31mValueError\u001b[0m: Found input variables with inconsistent numbers of samples: [646, 644]"
     ]
    },
    {
     "data": {
      "image/png": "[encoded data removed]",
      "text/plain": [
       "<Figure size 864x288 with 1 Axes>"
      ]
     },
     "metadata": {
      "needs_background": "light"
     },
     "output_type": "display_data"
    }
   ],
   "source": [
    "#Plot and Evaluate\n",
    "for col in train.columns:\n",
    "    plot_and_eval(target_var = col)\n",
    "    eval_df = append_eval_df(model_type = 'Previous Cycle', target_var = col)"
   ]
  },
  {
   "cell_type": "code",
   "execution_count": 65,
   "id": "a0533665-9da3-44cd-9f30-b766152d8ba8",
   "metadata": {
    "tags": []
   },
   "outputs": [
    {
     "data": {
      "text/html": [
       "<div>\n",
       "<style scoped>\n",
       "    .dataframe tbody tr th:only-of-type {\n",
       "        vertical-align: middle;\n",
       "    }\n",
       "\n",
       "    .dataframe tbody tr th {\n",
       "        vertical-align: top;\n",
       "    }\n",
       "\n",
       "    .dataframe thead th {\n",
       "        text-align: right;\n",
       "    }\n",
       "</style>\n",
       "<table border=\"1\" class=\"dataframe\">\n",
       "  <thead>\n",
       "    <tr style=\"text-align: right;\">\n",
       "      <th></th>\n",
       "      <th>model_type</th>\n",
       "      <th>target_var</th>\n",
       "      <th>rmse</th>\n",
       "    </tr>\n",
       "  </thead>\n",
       "  <tbody>\n",
       "    <tr>\n",
       "      <th>0</th>\n",
       "      <td>Last Observed Value</td>\n",
       "      <td>deceased</td>\n",
       "      <td>0.0</td>\n",
       "    </tr>\n",
       "    <tr>\n",
       "      <th>1</th>\n",
       "      <td>Simple Average</td>\n",
       "      <td>deceased</td>\n",
       "      <td>0.0</td>\n",
       "    </tr>\n",
       "  </tbody>\n",
       "</table>\n",
       "</div>"
      ],
      "text/plain": [
       "            model_type target_var  rmse\n",
       "0  Last Observed Value   deceased   0.0\n",
       "1       Simple Average   deceased   0.0"
      ]
     },
     "execution_count": 65,
     "metadata": {},
     "output_type": "execute_result"
    }
   ],
   "source": [
    "#get the min rmse for the target variable\n",
    "min_rmse_items_sold = eval_df.groupby('target_var')['rmse'].min()[0]\n",
    "\n",
    "#filter only the rows that match those rmse to find out \n",
    "eval_df[(eval_df.rmse == min_rmse_items_sold)]"
   ]
  },
  {
   "cell_type": "code",
   "execution_count": 66,
   "id": "bc5bacde-3b9b-4788-84cd-24a2b03d6be9",
   "metadata": {
    "tags": []
   },
   "outputs": [
    {
     "data": {
      "image/png": "[encoded data removed]",
      "text/plain": [
       "<Figure size 864x432 with 1 Axes>"
      ]
     },
     "metadata": {
      "needs_background": "light"
     },
     "output_type": "display_data"
    }
   ],
   "source": [
    "for col in train.columns:\n",
    "    x = eval_df[eval_df.target_var == col]['model_type']\n",
    "    y = eval_df[eval_df.target_var == col]['rmse']\n",
    "    plt.figure(figsize=(12, 6))\n",
    "    sns.barplot(x, y)\n",
    "    plt.title('Average Temperature')\n",
    "    plt.ylabel('RMSE')\n",
    "    plt.xlabel('Model')\n",
    "    plt.xticks(rotation=45)\n",
    "    plt.show()"
   ]
  },
  {
   "cell_type": "code",
   "execution_count": 19,
   "id": "d13fdd5e-d617-4ba0-a845-abb73b030876",
   "metadata": {},
   "outputs": [
    {
     "ename": "ValueError",
     "evalue": "Length mismatch: Expected axis has 2487 elements, new values have 1660 elements",
     "output_type": "error",
     "traceback": [
      "\u001b[0;31m---------------------------------------------------------------------------\u001b[0m",
      "\u001b[0;31mValueError\u001b[0m                                Traceback (most recent call last)",
      "\u001b[0;32m<ipython-input-19-f2ca68cbd081>\u001b[0m in \u001b[0;36m<module>\u001b[0;34m\u001b[0m\n\u001b[1;32m      1\u001b[0m \u001b[0;31m#Out of sample We will be using train + validate to predict test\u001b[0m\u001b[0;34m\u001b[0m\u001b[0;34m\u001b[0m\u001b[0;34m\u001b[0m\u001b[0m\n\u001b[1;32m      2\u001b[0m \u001b[0myhat_df\u001b[0m \u001b[0;34m=\u001b[0m \u001b[0mvalidate\u001b[0m \u001b[0;34m+\u001b[0m \u001b[0mtrain\u001b[0m\u001b[0;34m.\u001b[0m\u001b[0mdiff\u001b[0m\u001b[0;34m(\u001b[0m\u001b[0;36m36\u001b[0m\u001b[0;34m)\u001b[0m\u001b[0;34m.\u001b[0m\u001b[0mmean\u001b[0m\u001b[0;34m(\u001b[0m\u001b[0;34m)\u001b[0m\u001b[0;34m\u001b[0m\u001b[0;34m\u001b[0m\u001b[0m\n\u001b[0;32m----> 3\u001b[0;31m \u001b[0myhat_df\u001b[0m\u001b[0;34m.\u001b[0m\u001b[0mindex\u001b[0m \u001b[0;34m=\u001b[0m \u001b[0mtest\u001b[0m\u001b[0;34m.\u001b[0m\u001b[0mindex\u001b[0m\u001b[0;34m\u001b[0m\u001b[0;34m\u001b[0m\u001b[0m\n\u001b[0m",
      "\u001b[0;32m/usr/local/anaconda3/lib/python3.8/site-packages/pandas/core/generic.py\u001b[0m in \u001b[0;36m__setattr__\u001b[0;34m(self, name, value)\u001b[0m\n\u001b[1;32m   5476\u001b[0m         \u001b[0;32mtry\u001b[0m\u001b[0;34m:\u001b[0m\u001b[0;34m\u001b[0m\u001b[0;34m\u001b[0m\u001b[0m\n\u001b[1;32m   5477\u001b[0m             \u001b[0mobject\u001b[0m\u001b[0;34m.\u001b[0m\u001b[0m__getattribute__\u001b[0m\u001b[0;34m(\u001b[0m\u001b[0mself\u001b[0m\u001b[0;34m,\u001b[0m \u001b[0mname\u001b[0m\u001b[0;34m)\u001b[0m\u001b[0;34m\u001b[0m\u001b[0;34m\u001b[0m\u001b[0m\n\u001b[0;32m-> 5478\u001b[0;31m             \u001b[0;32mreturn\u001b[0m \u001b[0mobject\u001b[0m\u001b[0;34m.\u001b[0m\u001b[0m__setattr__\u001b[0m\u001b[0;34m(\u001b[0m\u001b[0mself\u001b[0m\u001b[0;34m,\u001b[0m \u001b[0mname\u001b[0m\u001b[0;34m,\u001b[0m \u001b[0mvalue\u001b[0m\u001b[0;34m)\u001b[0m\u001b[0;34m\u001b[0m\u001b[0;34m\u001b[0m\u001b[0m\n\u001b[0m\u001b[1;32m   5479\u001b[0m         \u001b[0;32mexcept\u001b[0m \u001b[0mAttributeError\u001b[0m\u001b[0;34m:\u001b[0m\u001b[0;34m\u001b[0m\u001b[0;34m\u001b[0m\u001b[0m\n\u001b[1;32m   5480\u001b[0m             \u001b[0;32mpass\u001b[0m\u001b[0;34m\u001b[0m\u001b[0;34m\u001b[0m\u001b[0m\n",
      "\u001b[0;32mpandas/_libs/properties.pyx\u001b[0m in \u001b[0;36mpandas._libs.properties.AxisProperty.__set__\u001b[0;34m()\u001b[0m\n",
      "\u001b[0;32m/usr/local/anaconda3/lib/python3.8/site-packages/pandas/core/generic.py\u001b[0m in \u001b[0;36m_set_axis\u001b[0;34m(self, axis, labels)\u001b[0m\n\u001b[1;32m    668\u001b[0m     \u001b[0;32mdef\u001b[0m \u001b[0m_set_axis\u001b[0m\u001b[0;34m(\u001b[0m\u001b[0mself\u001b[0m\u001b[0;34m,\u001b[0m \u001b[0maxis\u001b[0m\u001b[0;34m:\u001b[0m \u001b[0mint\u001b[0m\u001b[0;34m,\u001b[0m \u001b[0mlabels\u001b[0m\u001b[0;34m:\u001b[0m \u001b[0mIndex\u001b[0m\u001b[0;34m)\u001b[0m \u001b[0;34m->\u001b[0m \u001b[0;32mNone\u001b[0m\u001b[0;34m:\u001b[0m\u001b[0;34m\u001b[0m\u001b[0;34m\u001b[0m\u001b[0m\n\u001b[1;32m    669\u001b[0m         \u001b[0mlabels\u001b[0m \u001b[0;34m=\u001b[0m \u001b[0mensure_index\u001b[0m\u001b[0;34m(\u001b[0m\u001b[0mlabels\u001b[0m\u001b[0;34m)\u001b[0m\u001b[0;34m\u001b[0m\u001b[0;34m\u001b[0m\u001b[0m\n\u001b[0;32m--> 670\u001b[0;31m         \u001b[0mself\u001b[0m\u001b[0;34m.\u001b[0m\u001b[0m_mgr\u001b[0m\u001b[0;34m.\u001b[0m\u001b[0mset_axis\u001b[0m\u001b[0;34m(\u001b[0m\u001b[0maxis\u001b[0m\u001b[0;34m,\u001b[0m \u001b[0mlabels\u001b[0m\u001b[0;34m)\u001b[0m\u001b[0;34m\u001b[0m\u001b[0;34m\u001b[0m\u001b[0m\n\u001b[0m\u001b[1;32m    671\u001b[0m         \u001b[0mself\u001b[0m\u001b[0;34m.\u001b[0m\u001b[0m_clear_item_cache\u001b[0m\u001b[0;34m(\u001b[0m\u001b[0;34m)\u001b[0m\u001b[0;34m\u001b[0m\u001b[0;34m\u001b[0m\u001b[0m\n\u001b[1;32m    672\u001b[0m \u001b[0;34m\u001b[0m\u001b[0m\n",
      "\u001b[0;32m/usr/local/anaconda3/lib/python3.8/site-packages/pandas/core/internals/managers.py\u001b[0m in \u001b[0;36mset_axis\u001b[0;34m(self, axis, new_labels)\u001b[0m\n\u001b[1;32m    218\u001b[0m \u001b[0;34m\u001b[0m\u001b[0m\n\u001b[1;32m    219\u001b[0m         \u001b[0;32mif\u001b[0m \u001b[0mnew_len\u001b[0m \u001b[0;34m!=\u001b[0m \u001b[0mold_len\u001b[0m\u001b[0;34m:\u001b[0m\u001b[0;34m\u001b[0m\u001b[0;34m\u001b[0m\u001b[0m\n\u001b[0;32m--> 220\u001b[0;31m             raise ValueError(\n\u001b[0m\u001b[1;32m    221\u001b[0m                 \u001b[0;34mf\"Length mismatch: Expected axis has {old_len} elements, new \"\u001b[0m\u001b[0;34m\u001b[0m\u001b[0;34m\u001b[0m\u001b[0m\n\u001b[1;32m    222\u001b[0m                 \u001b[0;34mf\"values have {new_len} elements\"\u001b[0m\u001b[0;34m\u001b[0m\u001b[0;34m\u001b[0m\u001b[0m\n",
      "\u001b[0;31mValueError\u001b[0m: Length mismatch: Expected axis has 2487 elements, new values have 1660 elements"
     ]
    }
   ],
   "source": [
    "#Out of sample We will be using train + validate to predict test\n",
    "yhat_df = validate + train.diff(36).mean()\n",
    "yhat_df.index = test.index"
   ]
  },
  {
   "cell_type": "code",
   "execution_count": null,
   "id": "fde30ea9-c661-48cb-9a6a-19793e56d682",
   "metadata": {},
   "outputs": [],
   "source": []
  },
  {
   "cell_type": "code",
   "execution_count": null,
   "id": "d31975cd-8aff-4abf-991c-d006d0bebfeb",
   "metadata": {},
   "outputs": [],
   "source": []
  },
  {
   "cell_type": "code",
   "execution_count": null,
   "id": "d0e688ac-4c79-42b8-a8e2-9267f45957bd",
   "metadata": {},
   "outputs": [],
   "source": []
  },
  {
   "cell_type": "code",
   "execution_count": null,
   "id": "ee494cd0-4455-484e-83b7-5dcdcc5493f8",
   "metadata": {},
   "outputs": [],
   "source": [
    "#imports\n",
    "import pandas as pd\n",
    "import numpy as np\n",
    "import seaborn as sns\n",
    "import matplotlib.pyplot as plt\n",
    "import statsmodels.api as sm\n",
    "from datetime import datetime\n",
    "from sklearn.metrics import mean_squared_error\n",
    "from math import sqrt\n",
    "from pandas.plotting import register_matplotlib_converters\n",
    "from statsmodels.tsa.api import Holt\n",
    "\n",
    "\n",
    "\n",
    "#ignore warnings\n",
    "import warnings\n",
    "warnings.filterwarnings(\"ignore\")\n",
    "\n",
    "#visual format\n",
    "pd.options.display.float_format = '{:20,.2f}'.format\n",
    "\n",
    "#plotting defaults\n",
    "plt.rc('figure', figsize=(13, 7))\n",
    "plt.style.use('seaborn-whitegrid')\n",
    "plt.rc('font', size=16)"
   ]
  },
  {
   "cell_type": "code",
   "execution_count": null,
   "id": "42fa29ed-cc3a-43a3-8269-e440e62b3534",
   "metadata": {},
   "outputs": [],
   "source": []
  },
  {
   "cell_type": "code",
   "execution_count": null,
   "id": "880ac59e-e215-47c4-a3a4-71baf74d380e",
   "metadata": {
    "tags": []
   },
   "outputs": [],
   "source": []
  },
  {
   "cell_type": "code",
   "execution_count": null,
   "id": "2894666f-9e44-4597-b9e1-e73325985352",
   "metadata": {},
   "outputs": [],
   "source": [
    "#plots train variable distributions\n",
    "def variable_distributions(train):\n",
    " \n",
    "    for col in train.columns:\n",
    "        plt.figure(figsize=(4,2))\n",
    "        plt.ticklabel_format(axis = 'both', style = 'sci', useMathText = True)\n",
    "        plt.hist(train[col], edgecolor='black')\n",
    "        plt.title(col)\n",
    "        plt.show()"
   ]
  },
  {
   "cell_type": "code",
   "execution_count": null,
   "id": "57bbbc61-18e8-40bf-ad49-5a66142f2784",
   "metadata": {},
   "outputs": [],
   "source": [
    "df = df.drop(columns=['Crash ID', 'Average Daily Traffic Amount', 'Average Daily Traffic Year', 'Highway Number',\n",
    "                     'Surface Condition', 'Surface Type', 'Vehicle Hit and Run Flag',\n",
    "                     'Person Blood Alcohol Content Test Result', 'Person Drug Test Result',\n",
    "                     'Crash Month', 'Crash Year', 'Number of Lanes', 'License Plate State',\n",
    "                     'Driver License Type', 'Crash Severity', 'Unit Death Count', 'Unit Not Injured Count',\n",
    "                     'Person Death Count', 'Person Injury Severity', 'Person Not Injured Count', 'Person Total Injury Count'])"
   ]
  },
  {
   "cell_type": "code",
   "execution_count": null,
   "id": "c4a3d490-be77-4299-b198-cbdb621c34f5",
   "metadata": {},
   "outputs": [],
   "source": [
    "df = df.rename(str.lower, axis='columns')"
   ]
  },
  {
   "cell_type": "code",
   "execution_count": null,
   "id": "8d97add5-0a46-44c3-8ee1-cc3e1cca995c",
   "metadata": {},
   "outputs": [],
   "source": [
    "df = df.rename(columns = {'crash date':'date', 'day of week':'day',\n",
    "                         'weather condition':'weather', 'vehicle color':'color', 'vehicle make':'make',\n",
    "                         'person age':'age', 'person ethnicity':'ethnicity', 'crash death count':'deceased', 'crash time':'time',\n",
    "                         'crash total injury count':'injured', 'driver license state':'dl_state', 'person gender':'gender',\n",
    "                         'person helmet':'helmet', 'person type':'driver'})"
   ]
  },
  {
   "cell_type": "code",
   "execution_count": null,
   "id": "e5dd86e7-63f0-45ce-963c-67241d368dbc",
   "metadata": {},
   "outputs": [],
   "source": [
    "df = df.replace(to_replace = {'5 - DRIVER OF MOTORCYCLE TYPE VEHICLE', '6 - PASSENGER/OCCUPANT ON MOTORCYCLE TYPE VEHICLE'},\n",
    "                value = {'driver', 'passenger'})"
   ]
  },
  {
   "cell_type": "code",
   "execution_count": null,
   "id": "6d935dab-6628-4534-a980-fe84558b4ae9",
   "metadata": {},
   "outputs": [],
   "source": [
    "df = df.replace(to_replace = {'1 - NOT WORN', '99 - UNKNOWN IF WORN'}, value = 'not worn')"
   ]
  },
  {
   "cell_type": "code",
   "execution_count": null,
   "id": "37ede1ca-cb68-44f7-a1c9-f3119f80e948",
   "metadata": {},
   "outputs": [],
   "source": [
    "df = df.replace(to_replace = {'2 - WORN, DAMAGED', '3 - WORN, NOT DAMAGED', '4 - WORN, UNK DAMAGE'}, value = 'worn')"
   ]
  },
  {
   "cell_type": "code",
   "execution_count": null,
   "id": "4d5bdf9a-0a73-4601-9fdb-ab532da1c8d6",
   "metadata": {},
   "outputs": [],
   "source": [
    "df = df.replace(to_replace = {'2 - FEMALE'}, value = 'female')"
   ]
  },
  {
   "cell_type": "code",
   "execution_count": null,
   "id": "57ebc055-1486-47b0-917e-4296f9f8df9c",
   "metadata": {
    "tags": []
   },
   "outputs": [],
   "source": [
    "df = df.replace(to_replace = {'1 - MALE'}, value = 'male')"
   ]
  },
  {
   "cell_type": "code",
   "execution_count": null,
   "id": "c34281ca-c86e-4752-abcb-e00cae389829",
   "metadata": {},
   "outputs": [],
   "source": [
    "df['gender'] = df['gender'].replace({'99 - UNKNOWN':'male', 'No Data':'male'})"
   ]
  },
  {
   "cell_type": "code",
   "execution_count": null,
   "id": "c8f6f985-fb59-483b-9696-15638b1bfef4",
   "metadata": {},
   "outputs": [],
   "source": [
    "df['ethnicity'] = df['ethnicity'].replace({'No Data':'98 - OTHER'})"
   ]
  },
  {
   "cell_type": "code",
   "execution_count": null,
   "id": "4681a9d9-8c27-461d-aa07-9ccfc613a05c",
   "metadata": {},
   "outputs": [],
   "source": [
    "df['age'] = df['age'].replace({'No Data':37})"
   ]
  },
  {
   "cell_type": "code",
   "execution_count": null,
   "id": "55df5e46-6685-4c20-9a07-87f0b0285111",
   "metadata": {},
   "outputs": [],
   "source": [
    "df['make'] = df['make'].replace({'No Data':'unknown', 'UNKNOWN':'unknown'})"
   ]
  },
  {
   "cell_type": "code",
   "execution_count": null,
   "id": "1c60b996-14bb-4827-a595-6483d45975af",
   "metadata": {},
   "outputs": [],
   "source": [
    "df['color'] = df['color'].replace({'No Data':'99 - UNKNOWN'})"
   ]
  },
  {
   "cell_type": "code",
   "execution_count": null,
   "id": "8f6156f6-a49f-40fe-8daa-436b04f95c2d",
   "metadata": {},
   "outputs": [],
   "source": [
    "df['dl_state'] = df['dl_state'].replace({'No Data':'UN - UNKNOWN'})"
   ]
  },
  {
   "cell_type": "code",
   "execution_count": null,
   "id": "1d7feaa8-9181-440d-933a-998a7317c2b8",
   "metadata": {},
   "outputs": [],
   "source": [
    "df['injured'] = df['injured'].replace({2:1, 3:1, 4:1, 5:1, 6:1, 7:1})"
   ]
  },
  {
   "cell_type": "code",
   "execution_count": null,
   "id": "4e948e93-e81e-4fab-9bd2-0c46f4620ad0",
   "metadata": {},
   "outputs": [],
   "source": [
    "df['deceased'] = df['deceased'].replace({2:0})"
   ]
  },
  {
   "cell_type": "code",
   "execution_count": null,
   "id": "c8801c29-ade6-4682-92b2-c76a09184f84",
   "metadata": {},
   "outputs": [],
   "source": [
    "df['latitude'] = df['latitude'].replace({'No Data':0})"
   ]
  },
  {
   "cell_type": "code",
   "execution_count": null,
   "id": "d32b89ff-d319-4a79-a7f0-d6eff4061594",
   "metadata": {},
   "outputs": [],
   "source": [
    "df['longitude'] = df['longitude'].replace({'No Data':0})"
   ]
  },
  {
   "cell_type": "code",
   "execution_count": null,
   "id": "afaa4dc2-5a80-4858-bc1c-150de43416ef",
   "metadata": {},
   "outputs": [],
   "source": [
    "df['weather'] = df['weather'].str[4:]"
   ]
  },
  {
   "cell_type": "code",
   "execution_count": null,
   "id": "90f54548-fa1e-491b-ac52-5edaae859aaa",
   "metadata": {},
   "outputs": [],
   "source": [
    "df['weather'] = df['weather'].str.strip()"
   ]
  },
  {
   "cell_type": "code",
   "execution_count": null,
   "id": "6a04be62-4207-4186-a676-a5136bf2ed01",
   "metadata": {},
   "outputs": [],
   "source": [
    "df['dl_state'] = df['dl_state'].str[5:]"
   ]
  },
  {
   "cell_type": "code",
   "execution_count": null,
   "id": "c9b8eef5-5048-4c68-ba21-97fa00816dd9",
   "metadata": {},
   "outputs": [],
   "source": [
    "df['color'] = df['color'].str[6:]"
   ]
  },
  {
   "cell_type": "code",
   "execution_count": null,
   "id": "4e43b3e6-d38f-4a79-86f7-374111b47217",
   "metadata": {},
   "outputs": [],
   "source": [
    "df['ethnicity'] = df['ethnicity'].str[4:]"
   ]
  },
  {
   "cell_type": "code",
   "execution_count": null,
   "id": "97bf1c1a-8dc5-4297-ab63-910e6da0f639",
   "metadata": {},
   "outputs": [],
   "source": [
    "df['ethnicity'] = df['ethnicity'].str.strip()"
   ]
  },
  {
   "cell_type": "code",
   "execution_count": null,
   "id": "18dbe9bd-6c4a-497b-9cec-df864bacdc22",
   "metadata": {},
   "outputs": [],
   "source": [
    "df.time = df.time.astype(str)\n",
    "df['time'] = df['time'].apply(lambda x: x.zfill(4))\n",
    "df.time = df.time.str[:2] + ':' + df.time.str[-2:]"
   ]
  },
  {
   "cell_type": "code",
   "execution_count": null,
   "id": "aad5b4e4-46fb-4d3d-865c-8f97fc323097",
   "metadata": {},
   "outputs": [],
   "source": [
    "df['crash_date'] = df['date'] +' '+ df['time']"
   ]
  },
  {
   "cell_type": "code",
   "execution_count": null,
   "id": "dd1a0997-8041-44da-af6e-256d147662b5",
   "metadata": {
    "tags": []
   },
   "outputs": [],
   "source": [
    "df['crash_date'] = pd.to_datetime(df['crash_date'])"
   ]
  },
  {
   "cell_type": "code",
   "execution_count": null,
   "id": "0afbabee-71d6-4601-b400-a0fb6fba6613",
   "metadata": {},
   "outputs": [],
   "source": [
    "df = df.set_index('crash_date').sort_index()"
   ]
  },
  {
   "cell_type": "code",
   "execution_count": null,
   "id": "f30c9957-35ca-42d6-af11-5912ef986bcc",
   "metadata": {},
   "outputs": [],
   "source": [
    "convert_dict_int = {'age': int, 'deceased':int, 'injured':int, 'latitude':float, 'longitude':float}\n",
    "df = df.astype(convert_dict_int)"
   ]
  },
  {
   "cell_type": "code",
   "execution_count": null,
   "id": "e1e6142c-2827-4913-a9f2-43d9a0489ae4",
   "metadata": {},
   "outputs": [],
   "source": [
    "#get_dummies creates a seperate df of booleans for the identified columns below. Cleaning for the decission tree.\n",
    "dummy_df = pd.get_dummies(df[['driver', 'helmet', 'gender']], dummy_na=False, drop_first=[True, True])"
   ]
  },
  {
   "cell_type": "code",
   "execution_count": null,
   "id": "e514f97c-b632-41fa-bbfe-c9ef4ee0ba85",
   "metadata": {
    "tags": []
   },
   "outputs": [],
   "source": [
    "df = df.drop(columns=['driver', 'helmet', 'gender', 'date', 'time'])"
   ]
  },
  {
   "cell_type": "code",
   "execution_count": null,
   "id": "06996b0e-a253-455e-878d-f0029088d8fd",
   "metadata": {},
   "outputs": [],
   "source": [
    "df = pd.concat([df, dummy_df], axis=1)"
   ]
  },
  {
   "cell_type": "code",
   "execution_count": null,
   "id": "3b6845e1-f212-4a46-986b-bb3473878353",
   "metadata": {},
   "outputs": [],
   "source": [
    "df = df.rename(columns = {'driver_passenger':'driver', 'helmet_worn':'helmet', 'gender_male':'male'})"
   ]
  },
  {
   "cell_type": "code",
   "execution_count": null,
   "id": "a4231b38-1b45-4f98-ab81-3c15878e6076",
   "metadata": {},
   "outputs": [],
   "source": [
    "convert_dict_int = {'driver': int, 'helmet':int, 'male':int}\n",
    "df = df.astype(convert_dict_int)"
   ]
  },
  {
   "cell_type": "code",
   "execution_count": null,
   "id": "56960354-db8c-4a64-9ca4-e15155d48424",
   "metadata": {},
   "outputs": [],
   "source": [
    "df.head()"
   ]
  },
  {
   "cell_type": "code",
   "execution_count": null,
   "id": "85b213c2-b9c8-446a-a400-01babb78c182",
   "metadata": {},
   "outputs": [],
   "source": [
    "df.info()"
   ]
  },
  {
   "cell_type": "code",
   "execution_count": null,
   "id": "16e95d13-8bb9-4bf5-9754-d33cc0195f73",
   "metadata": {},
   "outputs": [],
   "source": [
    "df.describe().T"
   ]
  },
  {
   "cell_type": "code",
   "execution_count": null,
   "id": "6b81b9d8-9296-4342-9af5-a31e456375b3",
   "metadata": {},
   "outputs": [],
   "source": []
  },
  {
   "cell_type": "code",
   "execution_count": null,
   "id": "5af6e581-66bc-4ede-a1a9-488a033bae98",
   "metadata": {
    "tags": []
   },
   "outputs": [],
   "source": [
    "for c in df.columns:\n",
    "    print (\"---- %s ---\" % c)\n",
    "    print (df[c].value_counts())"
   ]
  },
  {
   "cell_type": "code",
   "execution_count": null,
   "id": "cc04d4de-3550-47dd-9037-cb605991d33e",
   "metadata": {},
   "outputs": [],
   "source": [
    "df1 = df[['city', 'county', 'latitude', 'longitude']]\n",
    "df1.head()"
   ]
  },
  {
   "cell_type": "code",
   "execution_count": null,
   "id": "f145ce3a-d6a0-4847-99d2-215061410af4",
   "metadata": {},
   "outputs": [],
   "source": [
    "temp_df = df.loc[(df['latitude'] == 'No Data')]\n",
    "temp_df"
   ]
  }
 ],
 "metadata": {
  "kernelspec": {
   "display_name": "Python 3",
   "language": "python",
   "name": "python3"
  },
  "language_info": {
   "codemirror_mode": {
    "name": "ipython",
    "version": 3
   },
   "file_extension": ".py",
   "mimetype": "text/x-python",
   "name": "python",
   "nbconvert_exporter": "python",
   "pygments_lexer": "ipython3",
   "version": "3.8.8"
  }
 },
 "nbformat": 4,
 "nbformat_minor": 5
}
