{
 "cells": [
  {
   "cell_type": "code",
   "execution_count": 2,
   "id": "e4b13bcd-aedb-4004-a66d-9350c2abae61",
   "metadata": {},
   "outputs": [],
   "source": [
    "import pandas as pd"
   ]
  },
  {
   "cell_type": "code",
   "execution_count": 4,
   "id": "61ec376b-1a5f-46ca-9879-1501e5e3df8d",
   "metadata": {},
   "outputs": [
    {
     "data": {
      "text/html": [
       "<div>\n",
       "<style scoped>\n",
       "    .dataframe tbody tr th:only-of-type {\n",
       "        vertical-align: middle;\n",
       "    }\n",
       "\n",
       "    .dataframe tbody tr th {\n",
       "        vertical-align: top;\n",
       "    }\n",
       "\n",
       "    .dataframe thead th {\n",
       "        text-align: right;\n",
       "    }\n",
       "</style>\n",
       "<table border=\"1\" class=\"dataframe\">\n",
       "  <thead>\n",
       "    <tr style=\"text-align: right;\">\n",
       "      <th></th>\n",
       "      <th>Crash ID</th>\n",
       "      <th>Average Daily Traffic Amount</th>\n",
       "      <th>Average Daily Traffic Year</th>\n",
       "      <th>City</th>\n",
       "      <th>County</th>\n",
       "      <th>Crash Date</th>\n",
       "      <th>Crash Death Count</th>\n",
       "      <th>Crash Month</th>\n",
       "      <th>Crash Severity</th>\n",
       "      <th>Crash Time</th>\n",
       "      <th>...</th>\n",
       "      <th>Person Blood Alcohol Content Test Result</th>\n",
       "      <th>Person Death Count</th>\n",
       "      <th>Person Drug Test Result</th>\n",
       "      <th>Person Ethnicity</th>\n",
       "      <th>Person Gender</th>\n",
       "      <th>Person Helmet</th>\n",
       "      <th>Person Injury Severity</th>\n",
       "      <th>Person Not Injured Count</th>\n",
       "      <th>Person Total Injury Count</th>\n",
       "      <th>Person Type</th>\n",
       "    </tr>\n",
       "  </thead>\n",
       "  <tbody>\n",
       "    <tr>\n",
       "      <th>0</th>\n",
       "      <td>11825679</td>\n",
       "      <td>21549</td>\n",
       "      <td>2018</td>\n",
       "      <td>SAN ANTONIO</td>\n",
       "      <td>BEXAR</td>\n",
       "      <td>1/1/11</td>\n",
       "      <td>0</td>\n",
       "      <td>1</td>\n",
       "      <td>B - SUSPECTED MINOR INJURY</td>\n",
       "      <td>2230</td>\n",
       "      <td>...</td>\n",
       "      <td>No Data</td>\n",
       "      <td>0</td>\n",
       "      <td>97 - NOT APPLICABLE</td>\n",
       "      <td>H - HISPANIC</td>\n",
       "      <td>1 - MALE</td>\n",
       "      <td>1 - NOT WORN</td>\n",
       "      <td>B - SUSPECTED MINOR INJURY</td>\n",
       "      <td>0</td>\n",
       "      <td>1</td>\n",
       "      <td>5 - DRIVER OF MOTORCYCLE TYPE VEHICLE</td>\n",
       "    </tr>\n",
       "    <tr>\n",
       "      <th>1</th>\n",
       "      <td>11825679</td>\n",
       "      <td>21549</td>\n",
       "      <td>2018</td>\n",
       "      <td>SAN ANTONIO</td>\n",
       "      <td>BEXAR</td>\n",
       "      <td>1/1/11</td>\n",
       "      <td>0</td>\n",
       "      <td>1</td>\n",
       "      <td>B - SUSPECTED MINOR INJURY</td>\n",
       "      <td>2230</td>\n",
       "      <td>...</td>\n",
       "      <td>No Data</td>\n",
       "      <td>0</td>\n",
       "      <td>No Data</td>\n",
       "      <td>H - HISPANIC</td>\n",
       "      <td>2 - FEMALE</td>\n",
       "      <td>1 - NOT WORN</td>\n",
       "      <td>C - POSSIBLE INJURY</td>\n",
       "      <td>0</td>\n",
       "      <td>1</td>\n",
       "      <td>6 - PASSENGER/OCCUPANT ON MOTORCYCLE TYPE VEHICLE</td>\n",
       "    </tr>\n",
       "  </tbody>\n",
       "</table>\n",
       "<p>2 rows × 39 columns</p>\n",
       "</div>"
      ],
      "text/plain": [
       "   Crash ID Average Daily Traffic Amount Average Daily Traffic Year  \\\n",
       "0  11825679                        21549                       2018   \n",
       "1  11825679                        21549                       2018   \n",
       "\n",
       "          City County Crash Date  Crash Death Count  Crash Month  \\\n",
       "0  SAN ANTONIO  BEXAR     1/1/11                  0            1   \n",
       "1  SAN ANTONIO  BEXAR     1/1/11                  0            1   \n",
       "\n",
       "               Crash Severity  Crash Time  ...  \\\n",
       "0  B - SUSPECTED MINOR INJURY        2230  ...   \n",
       "1  B - SUSPECTED MINOR INJURY        2230  ...   \n",
       "\n",
       "   Person Blood Alcohol Content Test Result  Person Death Count  \\\n",
       "0                                   No Data                   0   \n",
       "1                                   No Data                   0   \n",
       "\n",
       "  Person Drug Test Result Person Ethnicity Person Gender Person Helmet  \\\n",
       "0     97 - NOT APPLICABLE     H - HISPANIC      1 - MALE  1 - NOT WORN   \n",
       "1                 No Data     H - HISPANIC    2 - FEMALE  1 - NOT WORN   \n",
       "\n",
       "       Person Injury Severity Person Not Injured Count  \\\n",
       "0  B - SUSPECTED MINOR INJURY                        0   \n",
       "1         C - POSSIBLE INJURY                        0   \n",
       "\n",
       "  Person Total Injury Count                                        Person Type  \n",
       "0                         1              5 - DRIVER OF MOTORCYCLE TYPE VEHICLE  \n",
       "1                         1  6 - PASSENGER/OCCUPANT ON MOTORCYCLE TYPE VEHICLE  \n",
       "\n",
       "[2 rows x 39 columns]"
      ]
     },
     "execution_count": 4,
     "metadata": {},
     "output_type": "execute_result"
    }
   ],
   "source": [
    "df = pd.read_csv('texasma.csv')\n",
    "df.head(2)"
   ]
  },
  {
   "cell_type": "code",
   "execution_count": 5,
   "id": "c51580fe-f39f-4080-89d7-fb81901ce118",
   "metadata": {},
   "outputs": [
    {
     "name": "stdout",
     "output_type": "stream",
     "text": [
      "<class 'pandas.core.frame.DataFrame'>\n",
      "RangeIndex: 9055 entries, 0 to 9054\n",
      "Data columns (total 39 columns):\n",
      " #   Column                                    Non-Null Count  Dtype \n",
      "---  ------                                    --------------  ----- \n",
      " 0   Crash ID                                  9055 non-null   int64 \n",
      " 1   Average Daily Traffic Amount              9055 non-null   object\n",
      " 2   Average Daily Traffic Year                9055 non-null   object\n",
      " 3   City                                      9055 non-null   object\n",
      " 4   County                                    9055 non-null   object\n",
      " 5   Crash Date                                9055 non-null   object\n",
      " 6   Crash Death Count                         9055 non-null   int64 \n",
      " 7   Crash Month                               9055 non-null   int64 \n",
      " 8   Crash Severity                            9055 non-null   object\n",
      " 9   Crash Time                                9055 non-null   int64 \n",
      " 10  Crash Total Injury Count                  9055 non-null   int64 \n",
      " 11  Crash Year                                9055 non-null   int64 \n",
      " 12  Day of Week                               9055 non-null   object\n",
      " 13  Highway Number                            9055 non-null   object\n",
      " 14  Latitude                                  9055 non-null   object\n",
      " 15  Longitude                                 9055 non-null   object\n",
      " 16  Number of Lanes                           9055 non-null   object\n",
      " 17  Surface Condition                         9055 non-null   object\n",
      " 18  Surface Type                              9055 non-null   object\n",
      " 19  Weather Condition                         9055 non-null   object\n",
      " 20  Driver License State                      9055 non-null   object\n",
      " 21  Driver License Type                       9055 non-null   object\n",
      " 22  License Plate State                       9055 non-null   object\n",
      " 23  Unit Death Count                          9055 non-null   int64 \n",
      " 24  Unit Not Injured Count                    9055 non-null   int64 \n",
      " 25  Vehicle Color                             9055 non-null   object\n",
      " 26  Vehicle Hit and Run Flag                  9055 non-null   object\n",
      " 27  Vehicle Make                              9055 non-null   object\n",
      " 28  Person Age                                9055 non-null   object\n",
      " 29  Person Blood Alcohol Content Test Result  9055 non-null   object\n",
      " 30  Person Death Count                        9055 non-null   int64 \n",
      " 31  Person Drug Test Result                   9055 non-null   object\n",
      " 32  Person Ethnicity                          9055 non-null   object\n",
      " 33  Person Gender                             9055 non-null   object\n",
      " 34  Person Helmet                             9055 non-null   object\n",
      " 35  Person Injury Severity                    9055 non-null   object\n",
      " 36  Person Not Injured Count                  9055 non-null   int64 \n",
      " 37  Person Total Injury Count                 9055 non-null   int64 \n",
      " 38  Person Type                               9055 non-null   object\n",
      "dtypes: int64(11), object(28)\n",
      "memory usage: 2.7+ MB\n"
     ]
    }
   ],
   "source": [
    "df.info()"
   ]
  },
  {
   "cell_type": "code",
   "execution_count": 7,
   "id": "9319aec9-0b0c-480f-a134-99d27b3ed2bc",
   "metadata": {},
   "outputs": [
    {
     "data": {
      "text/plain": [
       "(9055, 39)"
      ]
     },
     "execution_count": 7,
     "metadata": {},
     "output_type": "execute_result"
    }
   ],
   "source": [
    "df.shape"
   ]
  },
  {
   "cell_type": "code",
   "execution_count": 8,
   "id": "19daabda-f0b3-46bb-9342-38375df11765",
   "metadata": {},
   "outputs": [
    {
     "data": {
      "text/plain": [
       "Index(['Crash ID', 'Average Daily Traffic Amount',\n",
       "       'Average Daily Traffic Year', 'City', 'County', 'Crash Date',\n",
       "       'Crash Death Count', 'Crash Month', 'Crash Severity', 'Crash Time',\n",
       "       'Crash Total Injury Count', 'Crash Year', 'Day of Week',\n",
       "       'Highway Number', 'Latitude', 'Longitude', 'Number of Lanes',\n",
       "       'Surface Condition', 'Surface Type', 'Weather Condition',\n",
       "       'Driver License State', 'Driver License Type', 'License Plate State',\n",
       "       'Unit Death Count', 'Unit Not Injured Count', 'Vehicle Color',\n",
       "       'Vehicle Hit and Run Flag', 'Vehicle Make', 'Person Age',\n",
       "       'Person Blood Alcohol Content Test Result', 'Person Death Count',\n",
       "       'Person Drug Test Result', 'Person Ethnicity', 'Person Gender',\n",
       "       'Person Helmet', 'Person Injury Severity', 'Person Not Injured Count',\n",
       "       'Person Total Injury Count', 'Person Type'],\n",
       "      dtype='object')"
      ]
     },
     "execution_count": 8,
     "metadata": {},
     "output_type": "execute_result"
    }
   ],
   "source": [
    "df.columns"
   ]
  },
  {
   "cell_type": "code",
   "execution_count": 9,
   "id": "b82f7a8e-1bbb-4476-9b39-323afc067781",
   "metadata": {},
   "outputs": [
    {
     "data": {
      "text/plain": [
       "Crash ID                                    0\n",
       "Average Daily Traffic Amount                0\n",
       "Average Daily Traffic Year                  0\n",
       "City                                        0\n",
       "County                                      0\n",
       "Crash Date                                  0\n",
       "Crash Death Count                           0\n",
       "Crash Month                                 0\n",
       "Crash Severity                              0\n",
       "Crash Time                                  0\n",
       "Crash Total Injury Count                    0\n",
       "Crash Year                                  0\n",
       "Day of Week                                 0\n",
       "Highway Number                              0\n",
       "Latitude                                    0\n",
       "Longitude                                   0\n",
       "Number of Lanes                             0\n",
       "Surface Condition                           0\n",
       "Surface Type                                0\n",
       "Weather Condition                           0\n",
       "Driver License State                        0\n",
       "Driver License Type                         0\n",
       "License Plate State                         0\n",
       "Unit Death Count                            0\n",
       "Unit Not Injured Count                      0\n",
       "Vehicle Color                               0\n",
       "Vehicle Hit and Run Flag                    0\n",
       "Vehicle Make                                0\n",
       "Person Age                                  0\n",
       "Person Blood Alcohol Content Test Result    0\n",
       "Person Death Count                          0\n",
       "Person Drug Test Result                     0\n",
       "Person Ethnicity                            0\n",
       "Person Gender                               0\n",
       "Person Helmet                               0\n",
       "Person Injury Severity                      0\n",
       "Person Not Injured Count                    0\n",
       "Person Total Injury Count                   0\n",
       "Person Type                                 0\n",
       "dtype: int64"
      ]
     },
     "execution_count": 9,
     "metadata": {},
     "output_type": "execute_result"
    }
   ],
   "source": [
    "df.isnull().sum()"
   ]
  },
  {
   "cell_type": "code",
   "execution_count": null,
   "id": "a46d8a4b-e34a-465d-8408-eb8f8b2b1790",
   "metadata": {},
   "outputs": [],
   "source": []
  }
 ],
 "metadata": {
  "kernelspec": {
   "display_name": "Python 3",
   "language": "python",
   "name": "python3"
  },
  "language_info": {
   "codemirror_mode": {
    "name": "ipython",
    "version": 3
   },
   "file_extension": ".py",
   "mimetype": "text/x-python",
   "name": "python",
   "nbconvert_exporter": "python",
   "pygments_lexer": "ipython3",
   "version": "3.8.8"
  }
 },
 "nbformat": 4,
 "nbformat_minor": 5
}
