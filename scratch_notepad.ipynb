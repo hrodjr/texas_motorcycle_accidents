{
 "cells": [
  {
   "cell_type": "code",
   "execution_count": 1,
   "id": "e4b13bcd-aedb-4004-a66d-9350c2abae61",
   "metadata": {},
   "outputs": [],
   "source": [
    "import pandas as pd\n",
    "import prepare\n",
    "import explore\n",
    "\n",
    "import numpy as np\n",
    "import seaborn as sns\n",
    "import scipy.stats as stats\n",
    "from datetime import datetime\n",
    "import matplotlib.pyplot as plt\n",
    "from sklearn.model_selection import train_test_split\n",
    "#ignore warnings\n",
    "import warnings\n",
    "warnings.filterwarnings('ignore')"
   ]
  },
  {
   "cell_type": "code",
   "execution_count": 2,
   "id": "61ec376b-1a5f-46ca-9879-1501e5e3df8d",
   "metadata": {},
   "outputs": [
    {
     "data": {
      "text/html": [
       "<div>\n",
       "<style scoped>\n",
       "    .dataframe tbody tr th:only-of-type {\n",
       "        vertical-align: middle;\n",
       "    }\n",
       "\n",
       "    .dataframe tbody tr th {\n",
       "        vertical-align: top;\n",
       "    }\n",
       "\n",
       "    .dataframe thead th {\n",
       "        text-align: right;\n",
       "    }\n",
       "</style>\n",
       "<table border=\"1\" class=\"dataframe\">\n",
       "  <thead>\n",
       "    <tr style=\"text-align: right;\">\n",
       "      <th></th>\n",
       "      <th>Crash ID</th>\n",
       "      <th>Average Daily Traffic Amount</th>\n",
       "      <th>Average Daily Traffic Year</th>\n",
       "      <th>City</th>\n",
       "      <th>County</th>\n",
       "      <th>Crash Date</th>\n",
       "      <th>Crash Death Count</th>\n",
       "      <th>Crash Month</th>\n",
       "      <th>Crash Severity</th>\n",
       "      <th>Crash Time</th>\n",
       "      <th>...</th>\n",
       "      <th>Person Blood Alcohol Content Test Result</th>\n",
       "      <th>Person Death Count</th>\n",
       "      <th>Person Drug Test Result</th>\n",
       "      <th>Person Ethnicity</th>\n",
       "      <th>Person Gender</th>\n",
       "      <th>Person Helmet</th>\n",
       "      <th>Person Injury Severity</th>\n",
       "      <th>Person Not Injured Count</th>\n",
       "      <th>Person Total Injury Count</th>\n",
       "      <th>Person Type</th>\n",
       "    </tr>\n",
       "  </thead>\n",
       "  <tbody>\n",
       "    <tr>\n",
       "      <th>0</th>\n",
       "      <td>11825679</td>\n",
       "      <td>21549</td>\n",
       "      <td>2018</td>\n",
       "      <td>SAN ANTONIO</td>\n",
       "      <td>BEXAR</td>\n",
       "      <td>1/1/11</td>\n",
       "      <td>0</td>\n",
       "      <td>1</td>\n",
       "      <td>B - SUSPECTED MINOR INJURY</td>\n",
       "      <td>2230</td>\n",
       "      <td>...</td>\n",
       "      <td>No Data</td>\n",
       "      <td>0</td>\n",
       "      <td>97 - NOT APPLICABLE</td>\n",
       "      <td>H - HISPANIC</td>\n",
       "      <td>1 - MALE</td>\n",
       "      <td>1 - NOT WORN</td>\n",
       "      <td>B - SUSPECTED MINOR INJURY</td>\n",
       "      <td>0</td>\n",
       "      <td>1</td>\n",
       "      <td>5 - DRIVER OF MOTORCYCLE TYPE VEHICLE</td>\n",
       "    </tr>\n",
       "    <tr>\n",
       "      <th>1</th>\n",
       "      <td>11825679</td>\n",
       "      <td>21549</td>\n",
       "      <td>2018</td>\n",
       "      <td>SAN ANTONIO</td>\n",
       "      <td>BEXAR</td>\n",
       "      <td>1/1/11</td>\n",
       "      <td>0</td>\n",
       "      <td>1</td>\n",
       "      <td>B - SUSPECTED MINOR INJURY</td>\n",
       "      <td>2230</td>\n",
       "      <td>...</td>\n",
       "      <td>No Data</td>\n",
       "      <td>0</td>\n",
       "      <td>No Data</td>\n",
       "      <td>H - HISPANIC</td>\n",
       "      <td>2 - FEMALE</td>\n",
       "      <td>1 - NOT WORN</td>\n",
       "      <td>C - POSSIBLE INJURY</td>\n",
       "      <td>0</td>\n",
       "      <td>1</td>\n",
       "      <td>6 - PASSENGER/OCCUPANT ON MOTORCYCLE TYPE VEHICLE</td>\n",
       "    </tr>\n",
       "  </tbody>\n",
       "</table>\n",
       "<p>2 rows × 39 columns</p>\n",
       "</div>"
      ],
      "text/plain": [
       "   Crash ID Average Daily Traffic Amount Average Daily Traffic Year  \\\n",
       "0  11825679                        21549                       2018   \n",
       "1  11825679                        21549                       2018   \n",
       "\n",
       "          City County Crash Date  Crash Death Count  Crash Month  \\\n",
       "0  SAN ANTONIO  BEXAR     1/1/11                  0            1   \n",
       "1  SAN ANTONIO  BEXAR     1/1/11                  0            1   \n",
       "\n",
       "               Crash Severity  Crash Time  ...  \\\n",
       "0  B - SUSPECTED MINOR INJURY        2230  ...   \n",
       "1  B - SUSPECTED MINOR INJURY        2230  ...   \n",
       "\n",
       "   Person Blood Alcohol Content Test Result  Person Death Count  \\\n",
       "0                                   No Data                   0   \n",
       "1                                   No Data                   0   \n",
       "\n",
       "  Person Drug Test Result Person Ethnicity Person Gender Person Helmet  \\\n",
       "0     97 - NOT APPLICABLE     H - HISPANIC      1 - MALE  1 - NOT WORN   \n",
       "1                 No Data     H - HISPANIC    2 - FEMALE  1 - NOT WORN   \n",
       "\n",
       "       Person Injury Severity Person Not Injured Count  \\\n",
       "0  B - SUSPECTED MINOR INJURY                        0   \n",
       "1         C - POSSIBLE INJURY                        0   \n",
       "\n",
       "  Person Total Injury Count                                        Person Type  \n",
       "0                         1              5 - DRIVER OF MOTORCYCLE TYPE VEHICLE  \n",
       "1                         1  6 - PASSENGER/OCCUPANT ON MOTORCYCLE TYPE VEHICLE  \n",
       "\n",
       "[2 rows x 39 columns]"
      ]
     },
     "execution_count": 2,
     "metadata": {},
     "output_type": "execute_result"
    }
   ],
   "source": [
    "df = pd.read_csv('texasma.csv')\n",
    "df.head(2)"
   ]
  },
  {
   "cell_type": "code",
   "execution_count": 3,
   "id": "616f3fb7-2613-4864-9f95-61c9de8a6721",
   "metadata": {},
   "outputs": [
    {
     "data": {
      "text/html": [
       "<div>\n",
       "<style scoped>\n",
       "    .dataframe tbody tr th:only-of-type {\n",
       "        vertical-align: middle;\n",
       "    }\n",
       "\n",
       "    .dataframe tbody tr th {\n",
       "        vertical-align: top;\n",
       "    }\n",
       "\n",
       "    .dataframe thead th {\n",
       "        text-align: right;\n",
       "    }\n",
       "</style>\n",
       "<table border=\"1\" class=\"dataframe\">\n",
       "  <thead>\n",
       "    <tr style=\"text-align: right;\">\n",
       "      <th></th>\n",
       "      <th>city</th>\n",
       "      <th>county</th>\n",
       "      <th>deceased</th>\n",
       "      <th>injured</th>\n",
       "      <th>day</th>\n",
       "      <th>latitude</th>\n",
       "      <th>longitude</th>\n",
       "      <th>age</th>\n",
       "      <th>driver</th>\n",
       "      <th>helmet</th>\n",
       "      <th>male</th>\n",
       "    </tr>\n",
       "    <tr>\n",
       "      <th>crash_date</th>\n",
       "      <th></th>\n",
       "      <th></th>\n",
       "      <th></th>\n",
       "      <th></th>\n",
       "      <th></th>\n",
       "      <th></th>\n",
       "      <th></th>\n",
       "      <th></th>\n",
       "      <th></th>\n",
       "      <th></th>\n",
       "      <th></th>\n",
       "    </tr>\n",
       "  </thead>\n",
       "  <tbody>\n",
       "    <tr>\n",
       "      <th>2011-01-01 22:30:00</th>\n",
       "      <td>SAN ANTONIO</td>\n",
       "      <td>BEXAR</td>\n",
       "      <td>0</td>\n",
       "      <td>1</td>\n",
       "      <td>SATURDAY</td>\n",
       "      <td>29.358915</td>\n",
       "      <td>-98.566314</td>\n",
       "      <td>27</td>\n",
       "      <td>0</td>\n",
       "      <td>0</td>\n",
       "      <td>1</td>\n",
       "    </tr>\n",
       "    <tr>\n",
       "      <th>2011-01-01 22:30:00</th>\n",
       "      <td>SAN ANTONIO</td>\n",
       "      <td>BEXAR</td>\n",
       "      <td>0</td>\n",
       "      <td>1</td>\n",
       "      <td>SATURDAY</td>\n",
       "      <td>29.358915</td>\n",
       "      <td>-98.566314</td>\n",
       "      <td>28</td>\n",
       "      <td>1</td>\n",
       "      <td>0</td>\n",
       "      <td>0</td>\n",
       "    </tr>\n",
       "    <tr>\n",
       "      <th>2011-01-03 12:15:00</th>\n",
       "      <td>SAN ANTONIO</td>\n",
       "      <td>BEXAR</td>\n",
       "      <td>1</td>\n",
       "      <td>0</td>\n",
       "      <td>MONDAY</td>\n",
       "      <td>29.537465</td>\n",
       "      <td>-98.424572</td>\n",
       "      <td>53</td>\n",
       "      <td>0</td>\n",
       "      <td>0</td>\n",
       "      <td>1</td>\n",
       "    </tr>\n",
       "    <tr>\n",
       "      <th>2011-01-05 21:15:00</th>\n",
       "      <td>SAN ANTONIO</td>\n",
       "      <td>BEXAR</td>\n",
       "      <td>0</td>\n",
       "      <td>1</td>\n",
       "      <td>WEDNESDAY</td>\n",
       "      <td>29.513015</td>\n",
       "      <td>-98.535152</td>\n",
       "      <td>47</td>\n",
       "      <td>0</td>\n",
       "      <td>0</td>\n",
       "      <td>1</td>\n",
       "    </tr>\n",
       "    <tr>\n",
       "      <th>2011-01-06 12:10:00</th>\n",
       "      <td>AUSTIN</td>\n",
       "      <td>WILLIAMSON</td>\n",
       "      <td>0</td>\n",
       "      <td>1</td>\n",
       "      <td>THURSDAY</td>\n",
       "      <td>30.476422</td>\n",
       "      <td>-97.764810</td>\n",
       "      <td>19</td>\n",
       "      <td>0</td>\n",
       "      <td>1</td>\n",
       "      <td>1</td>\n",
       "    </tr>\n",
       "  </tbody>\n",
       "</table>\n",
       "</div>"
      ],
      "text/plain": [
       "                            city      county  deceased  injured        day  \\\n",
       "crash_date                                                                   \n",
       "2011-01-01 22:30:00  SAN ANTONIO       BEXAR         0        1   SATURDAY   \n",
       "2011-01-01 22:30:00  SAN ANTONIO       BEXAR         0        1   SATURDAY   \n",
       "2011-01-03 12:15:00  SAN ANTONIO       BEXAR         1        0     MONDAY   \n",
       "2011-01-05 21:15:00  SAN ANTONIO       BEXAR         0        1  WEDNESDAY   \n",
       "2011-01-06 12:10:00       AUSTIN  WILLIAMSON         0        1   THURSDAY   \n",
       "\n",
       "                      latitude  longitude  age  driver  helmet  male  \n",
       "crash_date                                                            \n",
       "2011-01-01 22:30:00  29.358915 -98.566314   27       0       0     1  \n",
       "2011-01-01 22:30:00  29.358915 -98.566314   28       1       0     0  \n",
       "2011-01-03 12:15:00  29.537465 -98.424572   53       0       0     1  \n",
       "2011-01-05 21:15:00  29.513015 -98.535152   47       0       0     1  \n",
       "2011-01-06 12:10:00  30.476422 -97.764810   19       0       1     1  "
      ]
     },
     "execution_count": 3,
     "metadata": {},
     "output_type": "execute_result"
    }
   ],
   "source": [
    "df = prepare.cleaned(df)\n",
    "df.head()"
   ]
  },
  {
   "cell_type": "code",
   "execution_count": null,
   "id": "6d5c86fc-450b-477c-9b9f-be51b6117695",
   "metadata": {
    "tags": []
   },
   "outputs": [],
   "source": [
    "df.info()"
   ]
  },
  {
   "cell_type": "markdown",
   "id": "3b6a689a-f785-4e08-aef2-019340ff18a5",
   "metadata": {},
   "source": [
    "##### Data Visualization"
   ]
  },
  {
   "cell_type": "code",
   "execution_count": 4,
   "id": "7bc47c98-5d2a-48cd-bc51-d38540941578",
   "metadata": {},
   "outputs": [],
   "source": [
    "#initial hypothesis test and model was done on this split.\n",
    "train, validate, test = prepare.train_validate_test_split(df, 'deceased', seed=123)"
   ]
  },
  {
   "cell_type": "code",
   "execution_count": null,
   "id": "e2630564-4431-4f15-9c1f-eeeb0b3ed110",
   "metadata": {},
   "outputs": [],
   "source": [
    "### Classification\n",
    "# Whether or not a person survives (helmet, driver)\n",
    "\n",
    "### Clustering\n",
    "# Which age group die in an accident (age)\n",
    "# where are most accidents occuring (lat/long)\n",
    "\n",
    "### Timeseries\n",
    "# predict the number of motorcycle accidents over the next two years (timeseries)\n",
    "# How likely are you to be killed in a motorcycle accident (injured)"
   ]
  },
  {
   "cell_type": "markdown",
   "id": "ec3a78a6-c903-4efa-8bc0-0fb446436a0c",
   "metadata": {},
   "source": [
    "### Univariate Stats"
   ]
  },
  {
   "cell_type": "code",
   "execution_count": null,
   "id": "ea2c441d-7936-4cdf-b4b7-22b8b5e1abf5",
   "metadata": {},
   "outputs": [],
   "source": [
    "cat_vars = ['injured', 'driver', 'helmet', 'male']\n",
    "quant_vars = ['age']"
   ]
  },
  {
   "cell_type": "code",
   "execution_count": null,
   "id": "c18c7a07-7b57-4bd2-a720-1837e84d533e",
   "metadata": {
    "tags": []
   },
   "outputs": [],
   "source": [
    "explore.explore_univariate(train, cat_vars, quant_vars)"
   ]
  },
  {
   "cell_type": "markdown",
   "id": "5ecfd4d9-f363-4960-adb4-9b2928e735f8",
   "metadata": {},
   "source": [
    "### Bivariate Stats"
   ]
  },
  {
   "cell_type": "code",
   "execution_count": null,
   "id": "a2bd4224-3eeb-4102-839d-beeeeff8fe53",
   "metadata": {
    "tags": []
   },
   "outputs": [],
   "source": [
    "explore.explore_bivariate(train, 'deceased', cat_vars, quant_vars)"
   ]
  },
  {
   "cell_type": "markdown",
   "id": "85024e50-7c06-4877-94c8-3a96df15e8c9",
   "metadata": {},
   "source": [
    "### Multivariate"
   ]
  },
  {
   "cell_type": "code",
   "execution_count": null,
   "id": "cfb94978-22ef-4d16-8a1a-a75c3ae806b3",
   "metadata": {
    "tags": []
   },
   "outputs": [],
   "source": [
    "explore.explore_multivariate(train, 'deceased', cat_vars, quant_vars)"
   ]
  },
  {
   "cell_type": "code",
   "execution_count": 5,
   "id": "2efd766d-0958-4c6e-b28e-24b3f6c96efe",
   "metadata": {},
   "outputs": [],
   "source": [
    "X_train = train[['driver', 'helmet']]\n",
    "y_train = train.deceased\n",
    "X_validate = validate[['driver', 'helmet']]\n",
    "y_validate = validate.deceased\n",
    "X_test = test[['driver', 'helmet']]\n",
    "y_test = test.deceased"
   ]
  },
  {
   "cell_type": "code",
   "execution_count": null,
   "id": "750aa183-39a5-41d0-bf82-f79f23e50c52",
   "metadata": {},
   "outputs": [],
   "source": [
    "#print of x, y variables shape.\n",
    "print(X_train.shape,y_train.shape)\n",
    "print(X_validate.shape,y_validate.shape)\n",
    "print(X_test.shape,y_test.shape)"
   ]
  },
  {
   "cell_type": "markdown",
   "id": "51e02a86-b59f-4cc3-bfbe-86e617c1891d",
   "metadata": {},
   "source": [
    "## Baseline"
   ]
  },
  {
   "cell_type": "code",
   "execution_count": 6,
   "id": "0605d521-49b7-408a-8989-850c0fd84e5b",
   "metadata": {},
   "outputs": [
    {
     "name": "stdout",
     "output_type": "stream",
     "text": [
      "Baseline accuracy: 0.96\n"
     ]
    }
   ],
   "source": [
    "baseline = y_train.mode()\n",
    "matches_baseline_prediction = y_train == 0\n",
    "baseline_accuracy = matches_baseline_prediction.mean()\n",
    "print(f\"Baseline accuracy: {round(baseline_accuracy, 2)}\")"
   ]
  },
  {
   "cell_type": "markdown",
   "id": "c7210ea4-d87d-40ee-b8f0-7f81bf4fe201",
   "metadata": {},
   "source": [
    "# Model"
   ]
  },
  {
   "cell_type": "code",
   "execution_count": 7,
   "id": "f74b45bd-81b7-4ba0-88c8-44c5d6626597",
   "metadata": {},
   "outputs": [],
   "source": [
    "from sklearn.tree import DecisionTreeClassifier\n",
    "from sklearn.metrics import classification_report\n",
    "from sklearn.metrics import confusion_matrix\n",
    "from sklearn.ensemble import RandomForestClassifier\n",
    "from sklearn.neighbors import KNeighborsClassifier\n",
    "from sklearn.linear_model import LogisticRegression"
   ]
  },
  {
   "cell_type": "code",
   "execution_count": 8,
   "id": "35c35bc6-2a1b-43b7-a71a-163915d66463",
   "metadata": {},
   "outputs": [],
   "source": [
    "#prediction, accuracy and class report evaluation function used for the above functions\n",
    "def get_metrics_bin(clf, X, y):\n",
    "    '''\n",
    "    get_metrics_bin will take in a sklearn classifier model, an X and a y variable and utilize\n",
    "    the model to make a prediction and then gather accuracy, class report evaluations\n",
    "    Credit to @madeleine-capper\n",
    "    return:  a classification report as a pandas DataFrame\n",
    "    '''\n",
    "    y_pred = clf.predict(X)\n",
    "    accuracy = clf.score(X, y)\n",
    "    conf = confusion_matrix(y, y_pred)\n",
    "    class_report = pd.DataFrame(classification_report(y, y_pred, output_dict=True)).T\n",
    "    tpr = conf[1][1] / conf[1].sum()\n",
    "    fpr = conf[0][1] / conf[0].sum()\n",
    "    tnr = conf[0][0] / conf[0].sum()\n",
    "    fnr = conf[1][0] / conf[1].sum()\n",
    "    print(f'''\n",
    "    The accuracy for our model is {accuracy:.4}\n",
    "    The True Positive Rate is {tpr:.3}, The False Positive Rate is {fpr:.3},\n",
    "    The True Negative Rate is {tnr:.3}, and the False Negative Rate is {fnr:.3}\n",
    "    ''')\n",
    "    return class_report "
   ]
  },
  {
   "cell_type": "code",
   "execution_count": 17,
   "id": "ff8b2183-428b-49ad-9afb-a9dd73aac3c6",
   "metadata": {},
   "outputs": [
    {
     "name": "stdout",
     "output_type": "stream",
     "text": [
      "\n",
      "    The accuracy for our model is 0.9617\n",
      "    The True Positive Rate is 0.0, The False Positive Rate is 0.0,\n",
      "    The True Negative Rate is 1.0, and the False Negative Rate is 1.0\n",
      "    \n"
     ]
    },
    {
     "data": {
      "text/html": [
       "<div>\n",
       "<style scoped>\n",
       "    .dataframe tbody tr th:only-of-type {\n",
       "        vertical-align: middle;\n",
       "    }\n",
       "\n",
       "    .dataframe tbody tr th {\n",
       "        vertical-align: top;\n",
       "    }\n",
       "\n",
       "    .dataframe thead th {\n",
       "        text-align: right;\n",
       "    }\n",
       "</style>\n",
       "<table border=\"1\" class=\"dataframe\">\n",
       "  <thead>\n",
       "    <tr style=\"text-align: right;\">\n",
       "      <th></th>\n",
       "      <th>precision</th>\n",
       "      <th>recall</th>\n",
       "      <th>f1-score</th>\n",
       "      <th>support</th>\n",
       "    </tr>\n",
       "  </thead>\n",
       "  <tbody>\n",
       "    <tr>\n",
       "      <th>0</th>\n",
       "      <td>0.961736</td>\n",
       "      <td>1.000000</td>\n",
       "      <td>0.980495</td>\n",
       "      <td>4876.000000</td>\n",
       "    </tr>\n",
       "    <tr>\n",
       "      <th>1</th>\n",
       "      <td>0.000000</td>\n",
       "      <td>0.000000</td>\n",
       "      <td>0.000000</td>\n",
       "      <td>194.000000</td>\n",
       "    </tr>\n",
       "    <tr>\n",
       "      <th>accuracy</th>\n",
       "      <td>0.961736</td>\n",
       "      <td>0.961736</td>\n",
       "      <td>0.961736</td>\n",
       "      <td>0.961736</td>\n",
       "    </tr>\n",
       "    <tr>\n",
       "      <th>macro avg</th>\n",
       "      <td>0.480868</td>\n",
       "      <td>0.500000</td>\n",
       "      <td>0.490247</td>\n",
       "      <td>5070.000000</td>\n",
       "    </tr>\n",
       "    <tr>\n",
       "      <th>weighted avg</th>\n",
       "      <td>0.924936</td>\n",
       "      <td>0.961736</td>\n",
       "      <td>0.942977</td>\n",
       "      <td>5070.000000</td>\n",
       "    </tr>\n",
       "  </tbody>\n",
       "</table>\n",
       "</div>"
      ],
      "text/plain": [
       "              precision    recall  f1-score      support\n",
       "0              0.961736  1.000000  0.980495  4876.000000\n",
       "1              0.000000  0.000000  0.000000   194.000000\n",
       "accuracy       0.961736  0.961736  0.961736     0.961736\n",
       "macro avg      0.480868  0.500000  0.490247  5070.000000\n",
       "weighted avg   0.924936  0.961736  0.942977  5070.000000"
      ]
     },
     "execution_count": 17,
     "metadata": {},
     "output_type": "execute_result"
    }
   ],
   "source": [
    "### Decision Tree\n",
    "#Create the model\n",
    "dt = DecisionTreeClassifier(max_depth=3, random_state=123)\n",
    "#Fit the model\n",
    "dt.fit(X_train, y_train)\n",
    "#Use the model\n",
    "dt.predict(X_train)\n",
    "#prediction, accuracy, & class report evaluations\n",
    "get_metrics_bin(dt, X_train, y_train)"
   ]
  },
  {
   "cell_type": "code",
   "execution_count": 18,
   "id": "974c3e9f-af5f-42cd-97fe-7d7bcb2be53b",
   "metadata": {},
   "outputs": [
    {
     "name": "stdout",
     "output_type": "stream",
     "text": [
      "\n",
      "    The accuracy for our model is 0.9618\n",
      "    The True Positive Rate is 0.0, The False Positive Rate is 0.0,\n",
      "    The True Negative Rate is 1.0, and the False Negative Rate is 1.0\n",
      "    \n"
     ]
    },
    {
     "data": {
      "text/html": [
       "<div>\n",
       "<style scoped>\n",
       "    .dataframe tbody tr th:only-of-type {\n",
       "        vertical-align: middle;\n",
       "    }\n",
       "\n",
       "    .dataframe tbody tr th {\n",
       "        vertical-align: top;\n",
       "    }\n",
       "\n",
       "    .dataframe thead th {\n",
       "        text-align: right;\n",
       "    }\n",
       "</style>\n",
       "<table border=\"1\" class=\"dataframe\">\n",
       "  <thead>\n",
       "    <tr style=\"text-align: right;\">\n",
       "      <th></th>\n",
       "      <th>precision</th>\n",
       "      <th>recall</th>\n",
       "      <th>f1-score</th>\n",
       "      <th>support</th>\n",
       "    </tr>\n",
       "  </thead>\n",
       "  <tbody>\n",
       "    <tr>\n",
       "      <th>0</th>\n",
       "      <td>0.961822</td>\n",
       "      <td>1.000000</td>\n",
       "      <td>0.980539</td>\n",
       "      <td>2091.000000</td>\n",
       "    </tr>\n",
       "    <tr>\n",
       "      <th>1</th>\n",
       "      <td>0.000000</td>\n",
       "      <td>0.000000</td>\n",
       "      <td>0.000000</td>\n",
       "      <td>83.000000</td>\n",
       "    </tr>\n",
       "    <tr>\n",
       "      <th>accuracy</th>\n",
       "      <td>0.961822</td>\n",
       "      <td>0.961822</td>\n",
       "      <td>0.961822</td>\n",
       "      <td>0.961822</td>\n",
       "    </tr>\n",
       "    <tr>\n",
       "      <th>macro avg</th>\n",
       "      <td>0.480911</td>\n",
       "      <td>0.500000</td>\n",
       "      <td>0.490270</td>\n",
       "      <td>2174.000000</td>\n",
       "    </tr>\n",
       "    <tr>\n",
       "      <th>weighted avg</th>\n",
       "      <td>0.925101</td>\n",
       "      <td>0.961822</td>\n",
       "      <td>0.943104</td>\n",
       "      <td>2174.000000</td>\n",
       "    </tr>\n",
       "  </tbody>\n",
       "</table>\n",
       "</div>"
      ],
      "text/plain": [
       "              precision    recall  f1-score      support\n",
       "0              0.961822  1.000000  0.980539  2091.000000\n",
       "1              0.000000  0.000000  0.000000    83.000000\n",
       "accuracy       0.961822  0.961822  0.961822     0.961822\n",
       "macro avg      0.480911  0.500000  0.490270  2174.000000\n",
       "weighted avg   0.925101  0.961822  0.943104  2174.000000"
      ]
     },
     "execution_count": 18,
     "metadata": {},
     "output_type": "execute_result"
    }
   ],
   "source": [
    "get_metrics_bin(dt, X_validate, y_validate)"
   ]
  },
  {
   "cell_type": "code",
   "execution_count": 19,
   "id": "9ae929c8-d042-47a1-9504-27a1a0184dd5",
   "metadata": {},
   "outputs": [
    {
     "name": "stdout",
     "output_type": "stream",
     "text": [
      "\n",
      "    The accuracy for our model is 0.9619\n",
      "    The True Positive Rate is 0.0, The False Positive Rate is 0.0,\n",
      "    The True Negative Rate is 1.0, and the False Negative Rate is 1.0\n",
      "    \n"
     ]
    },
    {
     "data": {
      "text/html": [
       "<div>\n",
       "<style scoped>\n",
       "    .dataframe tbody tr th:only-of-type {\n",
       "        vertical-align: middle;\n",
       "    }\n",
       "\n",
       "    .dataframe tbody tr th {\n",
       "        vertical-align: top;\n",
       "    }\n",
       "\n",
       "    .dataframe thead th {\n",
       "        text-align: right;\n",
       "    }\n",
       "</style>\n",
       "<table border=\"1\" class=\"dataframe\">\n",
       "  <thead>\n",
       "    <tr style=\"text-align: right;\">\n",
       "      <th></th>\n",
       "      <th>precision</th>\n",
       "      <th>recall</th>\n",
       "      <th>f1-score</th>\n",
       "      <th>support</th>\n",
       "    </tr>\n",
       "  </thead>\n",
       "  <tbody>\n",
       "    <tr>\n",
       "      <th>0</th>\n",
       "      <td>0.961900</td>\n",
       "      <td>1.0000</td>\n",
       "      <td>0.980580</td>\n",
       "      <td>1742.0000</td>\n",
       "    </tr>\n",
       "    <tr>\n",
       "      <th>1</th>\n",
       "      <td>0.000000</td>\n",
       "      <td>0.0000</td>\n",
       "      <td>0.000000</td>\n",
       "      <td>69.0000</td>\n",
       "    </tr>\n",
       "    <tr>\n",
       "      <th>accuracy</th>\n",
       "      <td>0.961900</td>\n",
       "      <td>0.9619</td>\n",
       "      <td>0.961900</td>\n",
       "      <td>0.9619</td>\n",
       "    </tr>\n",
       "    <tr>\n",
       "      <th>macro avg</th>\n",
       "      <td>0.480950</td>\n",
       "      <td>0.5000</td>\n",
       "      <td>0.490290</td>\n",
       "      <td>1811.0000</td>\n",
       "    </tr>\n",
       "    <tr>\n",
       "      <th>weighted avg</th>\n",
       "      <td>0.925251</td>\n",
       "      <td>0.9619</td>\n",
       "      <td>0.943219</td>\n",
       "      <td>1811.0000</td>\n",
       "    </tr>\n",
       "  </tbody>\n",
       "</table>\n",
       "</div>"
      ],
      "text/plain": [
       "              precision  recall  f1-score    support\n",
       "0              0.961900  1.0000  0.980580  1742.0000\n",
       "1              0.000000  0.0000  0.000000    69.0000\n",
       "accuracy       0.961900  0.9619  0.961900     0.9619\n",
       "macro avg      0.480950  0.5000  0.490290  1811.0000\n",
       "weighted avg   0.925251  0.9619  0.943219  1811.0000"
      ]
     },
     "execution_count": 19,
     "metadata": {},
     "output_type": "execute_result"
    }
   ],
   "source": [
    "get_metrics_bin(dt, X_test, y_test)"
   ]
  },
  {
   "cell_type": "code",
   "execution_count": null,
   "id": "ca8889b2-715a-431d-892f-509096de0514",
   "metadata": {},
   "outputs": [],
   "source": []
  },
  {
   "cell_type": "code",
   "execution_count": null,
   "id": "880ac59e-e215-47c4-a3a4-71baf74d380e",
   "metadata": {},
   "outputs": [],
   "source": []
  },
  {
   "cell_type": "code",
   "execution_count": null,
   "id": "2894666f-9e44-4597-b9e1-e73325985352",
   "metadata": {},
   "outputs": [],
   "source": []
  },
  {
   "cell_type": "code",
   "execution_count": null,
   "id": "57bbbc61-18e8-40bf-ad49-5a66142f2784",
   "metadata": {},
   "outputs": [],
   "source": [
    "df = df.drop(columns=['Crash ID', 'Average Daily Traffic Amount', 'Average Daily Traffic Year', 'Highway Number',\n",
    "                     'Surface Condition', 'Surface Type', 'Vehicle Hit and Run Flag',\n",
    "                     'Person Blood Alcohol Content Test Result', 'Person Drug Test Result',\n",
    "                     'Crash Month', 'Crash Year', 'Number of Lanes', 'License Plate State',\n",
    "                     'Driver License Type', 'Crash Severity', 'Unit Death Count', 'Unit Not Injured Count',\n",
    "                     'Person Death Count', 'Person Injury Severity', 'Person Not Injured Count', 'Person Total Injury Count'])"
   ]
  },
  {
   "cell_type": "code",
   "execution_count": null,
   "id": "c4a3d490-be77-4299-b198-cbdb621c34f5",
   "metadata": {},
   "outputs": [],
   "source": [
    "df = df.rename(str.lower, axis='columns')"
   ]
  },
  {
   "cell_type": "code",
   "execution_count": null,
   "id": "8d97add5-0a46-44c3-8ee1-cc3e1cca995c",
   "metadata": {},
   "outputs": [],
   "source": [
    "df = df.rename(columns = {'crash date':'date', 'day of week':'day',\n",
    "                         'weather condition':'weather', 'vehicle color':'color', 'vehicle make':'make',\n",
    "                         'person age':'age', 'person ethnicity':'ethnicity', 'crash death count':'deceased', 'crash time':'time',\n",
    "                         'crash total injury count':'injured', 'driver license state':'dl_state', 'person gender':'gender',\n",
    "                         'person helmet':'helmet', 'person type':'driver'})"
   ]
  },
  {
   "cell_type": "code",
   "execution_count": null,
   "id": "e5dd86e7-63f0-45ce-963c-67241d368dbc",
   "metadata": {},
   "outputs": [],
   "source": [
    "df = df.replace(to_replace = {'5 - DRIVER OF MOTORCYCLE TYPE VEHICLE', '6 - PASSENGER/OCCUPANT ON MOTORCYCLE TYPE VEHICLE'},\n",
    "                value = {'driver', 'passenger'})"
   ]
  },
  {
   "cell_type": "code",
   "execution_count": null,
   "id": "6d935dab-6628-4534-a980-fe84558b4ae9",
   "metadata": {},
   "outputs": [],
   "source": [
    "df = df.replace(to_replace = {'1 - NOT WORN', '99 - UNKNOWN IF WORN'}, value = 'not worn')"
   ]
  },
  {
   "cell_type": "code",
   "execution_count": null,
   "id": "37ede1ca-cb68-44f7-a1c9-f3119f80e948",
   "metadata": {},
   "outputs": [],
   "source": [
    "df = df.replace(to_replace = {'2 - WORN, DAMAGED', '3 - WORN, NOT DAMAGED', '4 - WORN, UNK DAMAGE'}, value = 'worn')"
   ]
  },
  {
   "cell_type": "code",
   "execution_count": null,
   "id": "4d5bdf9a-0a73-4601-9fdb-ab532da1c8d6",
   "metadata": {},
   "outputs": [],
   "source": [
    "df = df.replace(to_replace = {'2 - FEMALE'}, value = 'female')"
   ]
  },
  {
   "cell_type": "code",
   "execution_count": null,
   "id": "57ebc055-1486-47b0-917e-4296f9f8df9c",
   "metadata": {
    "tags": []
   },
   "outputs": [],
   "source": [
    "df = df.replace(to_replace = {'1 - MALE'}, value = 'male')"
   ]
  },
  {
   "cell_type": "code",
   "execution_count": null,
   "id": "c34281ca-c86e-4752-abcb-e00cae389829",
   "metadata": {},
   "outputs": [],
   "source": [
    "df['gender'] = df['gender'].replace({'99 - UNKNOWN':'male', 'No Data':'male'})"
   ]
  },
  {
   "cell_type": "code",
   "execution_count": null,
   "id": "c8f6f985-fb59-483b-9696-15638b1bfef4",
   "metadata": {},
   "outputs": [],
   "source": [
    "df['ethnicity'] = df['ethnicity'].replace({'No Data':'98 - OTHER'})"
   ]
  },
  {
   "cell_type": "code",
   "execution_count": null,
   "id": "4681a9d9-8c27-461d-aa07-9ccfc613a05c",
   "metadata": {},
   "outputs": [],
   "source": [
    "df['age'] = df['age'].replace({'No Data':37})"
   ]
  },
  {
   "cell_type": "code",
   "execution_count": null,
   "id": "55df5e46-6685-4c20-9a07-87f0b0285111",
   "metadata": {},
   "outputs": [],
   "source": [
    "df['make'] = df['make'].replace({'No Data':'unknown', 'UNKNOWN':'unknown'})"
   ]
  },
  {
   "cell_type": "code",
   "execution_count": null,
   "id": "1c60b996-14bb-4827-a595-6483d45975af",
   "metadata": {},
   "outputs": [],
   "source": [
    "df['color'] = df['color'].replace({'No Data':'99 - UNKNOWN'})"
   ]
  },
  {
   "cell_type": "code",
   "execution_count": null,
   "id": "8f6156f6-a49f-40fe-8daa-436b04f95c2d",
   "metadata": {},
   "outputs": [],
   "source": [
    "df['dl_state'] = df['dl_state'].replace({'No Data':'UN - UNKNOWN'})"
   ]
  },
  {
   "cell_type": "code",
   "execution_count": null,
   "id": "1d7feaa8-9181-440d-933a-998a7317c2b8",
   "metadata": {},
   "outputs": [],
   "source": [
    "df['injured'] = df['injured'].replace({2:1, 3:1, 4:1, 5:1, 6:1, 7:1})"
   ]
  },
  {
   "cell_type": "code",
   "execution_count": null,
   "id": "4e948e93-e81e-4fab-9bd2-0c46f4620ad0",
   "metadata": {},
   "outputs": [],
   "source": [
    "df['deceased'] = df['deceased'].replace({2:0})"
   ]
  },
  {
   "cell_type": "code",
   "execution_count": null,
   "id": "c8801c29-ade6-4682-92b2-c76a09184f84",
   "metadata": {},
   "outputs": [],
   "source": [
    "df['latitude'] = df['latitude'].replace({'No Data':0})"
   ]
  },
  {
   "cell_type": "code",
   "execution_count": null,
   "id": "d32b89ff-d319-4a79-a7f0-d6eff4061594",
   "metadata": {},
   "outputs": [],
   "source": [
    "df['longitude'] = df['longitude'].replace({'No Data':0})"
   ]
  },
  {
   "cell_type": "code",
   "execution_count": null,
   "id": "afaa4dc2-5a80-4858-bc1c-150de43416ef",
   "metadata": {},
   "outputs": [],
   "source": [
    "df['weather'] = df['weather'].str[4:]"
   ]
  },
  {
   "cell_type": "code",
   "execution_count": null,
   "id": "90f54548-fa1e-491b-ac52-5edaae859aaa",
   "metadata": {},
   "outputs": [],
   "source": [
    "df['weather'] = df['weather'].str.strip()"
   ]
  },
  {
   "cell_type": "code",
   "execution_count": null,
   "id": "6a04be62-4207-4186-a676-a5136bf2ed01",
   "metadata": {},
   "outputs": [],
   "source": [
    "df['dl_state'] = df['dl_state'].str[5:]"
   ]
  },
  {
   "cell_type": "code",
   "execution_count": null,
   "id": "c9b8eef5-5048-4c68-ba21-97fa00816dd9",
   "metadata": {},
   "outputs": [],
   "source": [
    "df['color'] = df['color'].str[6:]"
   ]
  },
  {
   "cell_type": "code",
   "execution_count": null,
   "id": "4e43b3e6-d38f-4a79-86f7-374111b47217",
   "metadata": {},
   "outputs": [],
   "source": [
    "df['ethnicity'] = df['ethnicity'].str[4:]"
   ]
  },
  {
   "cell_type": "code",
   "execution_count": null,
   "id": "97bf1c1a-8dc5-4297-ab63-910e6da0f639",
   "metadata": {},
   "outputs": [],
   "source": [
    "df['ethnicity'] = df['ethnicity'].str.strip()"
   ]
  },
  {
   "cell_type": "code",
   "execution_count": null,
   "id": "18dbe9bd-6c4a-497b-9cec-df864bacdc22",
   "metadata": {},
   "outputs": [],
   "source": [
    "df.time = df.time.astype(str)\n",
    "df['time'] = df['time'].apply(lambda x: x.zfill(4))\n",
    "df.time = df.time.str[:2] + ':' + df.time.str[-2:]"
   ]
  },
  {
   "cell_type": "code",
   "execution_count": null,
   "id": "aad5b4e4-46fb-4d3d-865c-8f97fc323097",
   "metadata": {},
   "outputs": [],
   "source": [
    "df['crash_date'] = df['date'] +' '+ df['time']"
   ]
  },
  {
   "cell_type": "code",
   "execution_count": null,
   "id": "dd1a0997-8041-44da-af6e-256d147662b5",
   "metadata": {
    "tags": []
   },
   "outputs": [],
   "source": [
    "df['crash_date'] = pd.to_datetime(df['crash_date'])"
   ]
  },
  {
   "cell_type": "code",
   "execution_count": null,
   "id": "0afbabee-71d6-4601-b400-a0fb6fba6613",
   "metadata": {},
   "outputs": [],
   "source": [
    "df = df.set_index('crash_date').sort_index()"
   ]
  },
  {
   "cell_type": "code",
   "execution_count": null,
   "id": "f30c9957-35ca-42d6-af11-5912ef986bcc",
   "metadata": {},
   "outputs": [],
   "source": [
    "convert_dict_int = {'age': int, 'deceased':int, 'injured':int, 'latitude':float, 'longitude':float}\n",
    "df = df.astype(convert_dict_int)"
   ]
  },
  {
   "cell_type": "code",
   "execution_count": null,
   "id": "e1e6142c-2827-4913-a9f2-43d9a0489ae4",
   "metadata": {},
   "outputs": [],
   "source": [
    "#get_dummies creates a seperate df of booleans for the identified columns below. Cleaning for the decission tree.\n",
    "dummy_df = pd.get_dummies(df[['driver', 'helmet', 'gender']], dummy_na=False, drop_first=[True, True])"
   ]
  },
  {
   "cell_type": "code",
   "execution_count": null,
   "id": "e514f97c-b632-41fa-bbfe-c9ef4ee0ba85",
   "metadata": {
    "tags": []
   },
   "outputs": [],
   "source": [
    "df = df.drop(columns=['driver', 'helmet', 'gender', 'date', 'time'])"
   ]
  },
  {
   "cell_type": "code",
   "execution_count": null,
   "id": "06996b0e-a253-455e-878d-f0029088d8fd",
   "metadata": {},
   "outputs": [],
   "source": [
    "df = pd.concat([df, dummy_df], axis=1)"
   ]
  },
  {
   "cell_type": "code",
   "execution_count": null,
   "id": "3b6845e1-f212-4a46-986b-bb3473878353",
   "metadata": {},
   "outputs": [],
   "source": [
    "df = df.rename(columns = {'driver_passenger':'driver', 'helmet_worn':'helmet', 'gender_male':'male'})"
   ]
  },
  {
   "cell_type": "code",
   "execution_count": null,
   "id": "a4231b38-1b45-4f98-ab81-3c15878e6076",
   "metadata": {},
   "outputs": [],
   "source": [
    "convert_dict_int = {'driver': int, 'helmet':int, 'male':int}\n",
    "df = df.astype(convert_dict_int)"
   ]
  },
  {
   "cell_type": "code",
   "execution_count": null,
   "id": "56960354-db8c-4a64-9ca4-e15155d48424",
   "metadata": {},
   "outputs": [],
   "source": [
    "df.head()"
   ]
  },
  {
   "cell_type": "code",
   "execution_count": null,
   "id": "85b213c2-b9c8-446a-a400-01babb78c182",
   "metadata": {},
   "outputs": [],
   "source": [
    "df.info()"
   ]
  },
  {
   "cell_type": "code",
   "execution_count": null,
   "id": "16e95d13-8bb9-4bf5-9754-d33cc0195f73",
   "metadata": {},
   "outputs": [],
   "source": [
    "df.describe().T"
   ]
  },
  {
   "cell_type": "code",
   "execution_count": null,
   "id": "6b81b9d8-9296-4342-9af5-a31e456375b3",
   "metadata": {},
   "outputs": [],
   "source": []
  },
  {
   "cell_type": "code",
   "execution_count": null,
   "id": "5af6e581-66bc-4ede-a1a9-488a033bae98",
   "metadata": {
    "tags": []
   },
   "outputs": [],
   "source": [
    "for c in df.columns:\n",
    "    print (\"---- %s ---\" % c)\n",
    "    print (df[c].value_counts())"
   ]
  },
  {
   "cell_type": "code",
   "execution_count": null,
   "id": "cc04d4de-3550-47dd-9037-cb605991d33e",
   "metadata": {},
   "outputs": [],
   "source": [
    "df1 = df[['city', 'county', 'latitude', 'longitude']]\n",
    "df1.head()"
   ]
  },
  {
   "cell_type": "code",
   "execution_count": null,
   "id": "f145ce3a-d6a0-4847-99d2-215061410af4",
   "metadata": {},
   "outputs": [],
   "source": [
    "temp_df = df.loc[(df['latitude'] == 'No Data')]\n",
    "temp_df"
   ]
  }
 ],
 "metadata": {
  "kernelspec": {
   "display_name": "Python 3",
   "language": "python",
   "name": "python3"
  },
  "language_info": {
   "codemirror_mode": {
    "name": "ipython",
    "version": 3
   },
   "file_extension": ".py",
   "mimetype": "text/x-python",
   "name": "python",
   "nbconvert_exporter": "python",
   "pygments_lexer": "ipython3",
   "version": "3.8.8"
  }
 },
 "nbformat": 4,
 "nbformat_minor": 5
}
